{
 "cells": [
  {
   "cell_type": "code",
   "execution_count": 5,
   "id": "606c4cd4",
   "metadata": {},
   "outputs": [
    {
     "name": "stdout",
     "output_type": "stream",
     "text": [
      "The autoreload extension is already loaded. To reload it, use:\n",
      "  %reload_ext autoreload\n"
     ]
    }
   ],
   "source": [
    "# Disable jedi autocompleter\n",
    "%config Completer.use_jedi = False\n",
    "\n",
    "%load_ext autoreload\n",
    "%autoreload 2\n",
    "\n",
    "import numpy as np\n",
    "import matplotlib.pyplot as plt\n",
    "\n",
    "import gym"
   ]
  },
  {
   "cell_type": "code",
   "execution_count": 3,
   "id": "32c9a590",
   "metadata": {},
   "outputs": [],
   "source": [
    "from agents import ExpertPIDController"
   ]
  },
  {
   "cell_type": "code",
   "execution_count": 4,
   "id": "5bb6e44b",
   "metadata": {},
   "outputs": [],
   "source": [
    "test_controller = ExpertPIDController(1, 2)"
   ]
  },
  {
   "cell_type": "code",
   "execution_count": null,
   "id": "b23a0e0a",
   "metadata": {},
   "outputs": [],
   "source": [
    "controller_action, f1_vels, f2_vels, f3_vels, wrist_vels = controller.PDController(lift_check, obs, env.action_space, velocities)\n",
    "\n",
    "\n",
    "velocities = {\"constant_velocity\": 0.75, \"min_velocity\": 0, \"max_velocity\": 1.5, \"finger_lift_velocity\": 1, \"wrist_lift_velocity\": 1}\n",
    "\n"
   ]
  },
  {
   "cell_type": "code",
   "execution_count": null,
   "id": "b5a2ead4",
   "metadata": {},
   "outputs": [],
   "source": [
    "def get_action(obs, lift_check, controller, env, velocities, pid_mode=\"combined\",timestep=None):\n",
    "    \"\"\" Get action based on controller (Naive, position-dependent, combined interpolation)\n",
    "        obs: Current state observation\n",
    "        controller: Initialized expert PID controller\n",
    "        env: Current Mujoco environment needed for expert PID controller\n",
    "        return action: np.array([wrist, f1, f2, f3]) (velocities in rad/sec)\n",
    "    \"\"\"\n",
    "    object_x_coord = obs[21]  # Object x coordinate position\n",
    "\n",
    "    # By default, action is set to close fingers at a constant velocity\n",
    "    controller_action = np.array([velocities[\"constant_velocity\"], velocities[\"constant_velocity\"], velocities[\"constant_velocity\"]])\n",
    "\n",
    "    # NAIVE CONTROLLER: Close all fingers at a constant speed\n",
    "    if pid_mode == \"naive\":\n",
    "        controller_action = NaiveController(lift_check, velocities)\n",
    "\n",
    "    # POSITION-DEPENDENT CONTROLLER: Only move fingers based on object x-coord position within hand\n",
    "    elif pid_mode == \"position-dependent\":\n",
    "        controller_action, f1_vels, f2_vels, f3_vels, wrist_vels = controller.PDController(lift_check, obs, env.action_space, velocities)\n",
    "\n",
    "    elif pid_mode == \"bell-shaped\":\n",
    "        controller_action = BellShapedController(lift_check, velocities, timestep)\n",
    "\n",
    "    # COMBINED CONTROLLER: Interpolate Naive and Position-Dependent controller output based on object x-coord position within hand\n",
    "    else:\n",
    "        # If object x position is on outer edges, do expert pid\n",
    "        if object_x_coord < -0.04 or object_x_coord > 0.04:\n",
    "            # Expert Nudge controller strategy\n",
    "            controller_action, f1_vels, f2_vels, f3_vels, wrist_vels = controller.PDController(lift_check, obs, env.action_space, velocities)\n",
    "\n",
    "        # Object x position within the side-middle ranges, interpolate expert/naive velocity output\n",
    "        elif -0.04 <= object_x_coord <= -0.02 or 0.02 <= object_x_coord <= 0.04:\n",
    "            # Interpolate between naive and expert velocities\n",
    "            # position-dependent controller action (finger velocity based on object location within hand)\n",
    "            expert_action, f1_vels, f2_vels, f3_vels, wrist_vels = controller.PDController(lift_check, obs, env.action_space, velocities)\n",
    "            # Naive controller action (fingers move at constant velocity)\n",
    "            naive_action = NaiveController(lift_check, velocities)\n",
    "\n",
    "            # Interpolate finger velocity values between position-dependent and Naive action output\n",
    "            finger_vels = np.interp(np.arange(0, 3), naive_action, expert_action)\n",
    "\n",
    "            controller_action = np.array([finger_vels[0], finger_vels[1], finger_vels[2]])\n",
    "\n",
    "        # Object x position is within center area, so use naive controller\n",
    "        else:\n",
    "            # Naive controller action (fingers move at constant velocity)\n",
    "            controller_action = NaiveController(lift_check, velocities)\n",
    "\n",
    "    #print(\"**** action: \",action)\n",
    "\n",
    "    return controller_action"
   ]
  },
  {
   "cell_type": "code",
   "execution_count": null,
   "id": "7c493a5e",
   "metadata": {},
   "outputs": [],
   "source": [
    "# First, get the observation\n",
    "\n",
    "# Then, get the action from controller\n",
    "# Input required: 1. If we are done lifting (hard code a certain amount of timesteps and just use done flag?), 2. observation, 3. action space (shoudl jsut be highs and lows), velocities dictionary\n",
    "# todo: rewrite so we don't feed in specific values\n",
    "controller_action, f1_vels, f2_vels, f3_vels, wrist_vels = test_controller.PDController(lift_check, obs, env.action_space, velocities)\n",
    "\n",
    "# Within here:\n",
    "# First, calculate the distances\n",
    "\n",
    "\n",
    "# Then, take the action"
   ]
  },
  {
   "cell_type": "code",
   "execution_count": null,
   "id": "cdc31767",
   "metadata": {},
   "outputs": [],
   "source": [
    "env = gym.make('gym_kinova_gripper:kinovagripper-v0')\n",
    "\n",
    "        start_hand_rotation = [-1.57 + roll_noise, 0 + pitch_noise, -1.57 + yaw_noise]\n",
    "\n",
    "        obs = env.reset(shape_keys=['CubeM'], hand_orientation='normal',\n",
    "                        start_pos=[x_noise, y_noise, z_noise],\n",
    "                        hand_rotation=start_hand_rotation)  # TODO: make sure this is NO OBJECT\n",
    "        "
   ]
  }
 ],
 "metadata": {
  "kernelspec": {
   "display_name": "Python 3",
   "language": "python",
   "name": "python3"
  },
  "language_info": {
   "codemirror_mode": {
    "name": "ipython",
    "version": 3
   },
   "file_extension": ".py",
   "mimetype": "text/x-python",
   "name": "python",
   "nbconvert_exporter": "python",
   "pygments_lexer": "ipython3",
   "version": "3.6.9"
  }
 },
 "nbformat": 4,
 "nbformat_minor": 5
}
