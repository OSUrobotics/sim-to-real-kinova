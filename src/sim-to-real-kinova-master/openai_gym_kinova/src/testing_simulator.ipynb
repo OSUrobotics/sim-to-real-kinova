{
 "cells": [
  {
   "cell_type": "code",
   "execution_count": 1,
   "id": "fa8d241e",
   "metadata": {},
   "outputs": [
    {
     "name": "stderr",
     "output_type": "stream",
     "text": [
      "/home/mechagodzilla/kinova_venv/lib/python3.6/site-packages/gym/logger.py:30: UserWarning: \u001b[33mWARN: Box bound precision lowered by casting to float32\u001b[0m\n",
      "  warnings.warn(colorize('%s: %s'%('WARN', msg % args), 'yellow'))\n"
     ]
    }
   ],
   "source": [
    "# Disable jedi autocompleter\n",
    "%config Completer.use_jedi = False\n",
    "\n",
    "%load_ext autoreload\n",
    "%autoreload 2\n",
    "\n",
    "import numpy as np\n",
    "import torch\n",
    "import gym\n",
    "import os\n",
    "# os.path.dirname(os.path.realpath(__file__))\n",
    "\n",
    "\n",
    "env = gym.make('gym_kinova_gripper:kinovagripper-v0')"
   ]
  },
  {
   "cell_type": "code",
   "execution_count": 2,
   "id": "b78e4a6d",
   "metadata": {},
   "outputs": [],
   "source": [
    "import os\n",
    "# os.path.dirname(os.path.realpath(__file__))"
   ]
  },
  {
   "cell_type": "code",
   "execution_count": 3,
   "id": "65117159",
   "metadata": {},
   "outputs": [
    {
     "name": "stdout",
     "output_type": "stream",
     "text": [
      "running build_ext\n"
     ]
    },
    {
     "name": "stderr",
     "output_type": "stream",
     "text": [
      "/home/mechagodzilla/kinova_venv/lib/python3.6/site-packages/gym/logger.py:30: UserWarning: \u001b[33mWARN: Box bound precision lowered by casting to float32\u001b[0m\n",
      "  warnings.warn(colorize('%s: %s'%('WARN', msg % args), 'yellow'))\n"
     ]
    }
   ],
   "source": [
    "\n",
    "\n",
    "env = gym.make('gym_kinova_gripper:kinovagripper-v0')\n",
    "\n",
    "# for i in range(100):\n",
    "#     env.render()\n",
    "    \n",
    "# env.close() # broken"
   ]
  },
  {
   "cell_type": "code",
   "execution_count": 98,
   "id": "e4a3c33e",
   "metadata": {},
   "outputs": [],
   "source": [
    "# obs = env.reset(shape_keys=['CylinderM'], hand_orientation='normal')  # TODO: make sure this is NO OBJECT\n",
    "# env.render()"
   ]
  },
  {
   "cell_type": "code",
   "execution_count": 99,
   "id": "3291e8c5",
   "metadata": {
    "scrolled": true
   },
   "outputs": [],
   "source": [
    "# env.close()\n",
    "\n",
    "# # next: control starting position\n",
    "# obs = env.reset(shape_keys=['CylinderM'], hand_orientation='normal', start_pos=[0.1, 0.0, 0.0])  # TODO: make sure this is NO OBJECT\n",
    "# env.render()"
   ]
  },
  {
   "cell_type": "code",
   "execution_count": 4,
   "id": "88dbd46e",
   "metadata": {},
   "outputs": [
    {
     "name": "stdout",
     "output_type": "stream",
     "text": [
      "selecting object...\n",
      "going into experiment function\n",
      "EXPERIMENT FUNCTION before\n",
      "{}\n",
      "['CylinderM']\n",
      "EXPERIMENT FUNCTION\n",
      "{'CylinderM': '/kinova_description/j2s7s300_end_effector_v1_CylinderM.xml'}\n",
      "['CylinderM']\n",
      "hi, what could go wrong\n",
      "FILENAME objects_file_to_list:  NONOfNOobjects.csv\n",
      "shape keys: ['CylinderM']\n",
      "the filepath is: NONOfNOobjects.csv\n",
      "THE FILENAME DOESNT EXIST\n",
      "IM GENERATING LATIN SQUARES 1036\n",
      "why the fuck am i entering self.experiment again\n",
      "SHAPE KEYS: ['CylinderM']\n",
      "object keys: dict_keys(['CylinderM'])\n",
      "EXPERIMENT FUNCTION before\n",
      "{'CylinderM': '/kinova_description/j2s7s300_end_effector_v1_CylinderM.xml'}\n",
      "['CylinderM']\n",
      "EXPERIMENT FUNCTION\n",
      "{'CylinderM': '/kinova_description/j2s7s300_end_effector_v1_CylinderM.xml'}\n",
      "['CylinderM']\n",
      "TEMP <= N\n",
      "TEMP <= N\n",
      "TEMP <= N\n",
      "TEMP <= N\n",
      "TEMP <= N\n",
      "TEMP <= N\n",
      "TEMP <= N\n",
      "TEMP <= N\n",
      "TEMP <= N\n",
      "NONOfNOobjects.csv\n",
      "wtfwtf\n",
      "wtfwtf\n",
      "wtfwtf\n",
      "wtfwtf\n",
      "wtfwtf\n",
      "wtfwtf\n",
      "wtfwtf\n",
      "wtfwtf\n",
      "wtfwtf\n",
      "get the object lol ==========\n",
      "OUR RANDOM SHAPES BEFOREHAND\n",
      "['CylinderM', 'CylinderM', 'CylinderM', 'CylinderM', 'CylinderM', 'CylinderM', 'CylinderM', 'CylinderM', 'CylinderM', 'CylinderM', 'CylinderM', 'CylinderM', 'CylinderM', 'CylinderM', 'CylinderM', 'CylinderM', 'CylinderM', 'CylinderM']\n",
      "BRUHHHHHHHHHHH\n",
      "EXPERIMENT FUNCTION before\n",
      "{'CylinderM': '/kinova_description/j2s7s300_end_effector_v1_CylinderM.xml'}\n",
      "['CylinderM']\n",
      "EXPERIMENT FUNCTION\n",
      "{'CylinderM': '/kinova_description/j2s7s300_end_effector_v1_CylinderM.xml'}\n",
      "['CylinderM']\n",
      "oreintation: normal\n",
      "\n",
      "hihihihhihihihihihihio\n",
      "what is wrong with you LOL\n",
      "well hello THERE! DETERMINE_WRIST_POS_COORDS\n",
      "normal\n",
      "CylinderM\n",
      "being called because a new hand rotation has been given...\n",
      "XML FILEPATH: /home/jimzers/sim-to-real-kinova/src/sim-to-real-kinova-master/openai_gym_kinova/src/gym_kinova_gripper/envs/kinova_description/j2s7s300_end_effector_v1_CylinderM.xml\n",
      "/home/jimzers/sim-to-real-kinova/src/sim-to-real-kinova-master/openai_gym_kinova/src/gym_kinova_gripper/envs/kinova_description/j2s7s300_end_effector_v1_CylinderM.xml\n",
      "TRANSFER LOCAL FROM WORLD\n",
      "[[-8.66025129e-01  4.99999049e-01  1.19448969e-03  1.18732787e-02]\n",
      " [-5.00000000e-01 -8.66025129e-01 -6.89639161e-04  5.93213595e-04]\n",
      " [ 6.89639161e-04 -1.19448969e-03  9.99999049e-01  1.55901656e-01]\n",
      " [ 0.00000000e+00  0.00000000e+00  0.00000000e+00  1.00000000e+00]]\n",
      "TRANSFER LOCAL FROM WORLD\n",
      "[[-8.66025129e-01  4.99999049e-01  1.19448969e-03  1.18732787e-02]\n",
      " [-5.00000000e-01 -8.66025129e-01 -6.89639161e-04  5.93213595e-04]\n",
      " [ 6.89639161e-04 -1.19448969e-03  9.99999049e-01  1.55901656e-01]\n",
      " [ 0.00000000e+00  0.00000000e+00  0.00000000e+00  1.00000000e+00]]\n",
      "TRANSFER LOCAL FROM WORLD\n",
      "[[-8.66025129e-01  4.99999049e-01  1.19448969e-03  1.18732787e-02]\n",
      " [-5.00000000e-01 -8.66025129e-01 -6.89639161e-04  5.93213595e-04]\n",
      " [ 6.89639161e-04 -1.19448969e-03  9.99999049e-01  1.55901656e-01]\n",
      " [ 0.00000000e+00  0.00000000e+00  0.00000000e+00  1.00000000e+00]]\n",
      "(9, 3)\n",
      "[[2.         2.         1.        ]\n",
      " [0.04640695 0.06067635 0.06415771]\n",
      " [0.0134105  0.01147713 0.0300886 ]\n",
      " [0.01010609 0.01125009 0.03083298]\n",
      " [0.0134105  0.01147713 0.0300886 ]\n",
      " [0.01010609 0.01125009 0.03083298]\n",
      " [0.0134105  0.01147713 0.0300886 ]\n",
      " [0.01010609 0.01125009 0.03083298]\n",
      " [0.02127066 0.02125045 0.05500114]]\n",
      "size doesnt matter: [0.02127066 0.02125045 0.05500114]\n",
      "(9, 3)\n",
      "[[2.         2.         1.        ]\n",
      " [0.04640695 0.06067635 0.06415771]\n",
      " [0.0134105  0.01147713 0.0300886 ]\n",
      " [0.01010609 0.01125009 0.03083298]\n",
      " [0.0134105  0.01147713 0.0300886 ]\n",
      " [0.01010609 0.01125009 0.03083298]\n",
      " [0.0134105  0.01147713 0.0300886 ]\n",
      " [0.01010609 0.01125009 0.03083298]\n",
      " [0.02127066 0.02125045 0.05500114]]\n",
      "size doesnt matter: [0.02127066 0.02125045 0.05500114]\n",
      "TRANSFER LOCAL FROM WORLD\n",
      "[[-8.66025129e-01  4.99999049e-01  1.19448969e-03  1.18732787e-02]\n",
      " [-5.00000000e-01 -8.66025129e-01 -6.89639161e-04  5.93213595e-04]\n",
      " [ 6.89639161e-04 -1.19448969e-03  9.99999049e-01  1.55901656e-01]\n",
      " [ 0.00000000e+00  0.00000000e+00  0.00000000e+00  1.00000000e+00]]\n"
     ]
    }
   ],
   "source": [
    "env.close()\n",
    "# next: control hand position\n",
    "roll_noise, pitch_noise, yaw_noise = 0, 0, 0\n",
    "\n",
    "# roll_noise = np.pi / 6  # wrist go uppy\n",
    "pitch_noise = np.pi / 6\n",
    "\n",
    "obs = env.reset(shape_keys=['CylinderM'], hand_orientation='normal',\n",
    "                start_pos=[0.0, 0.0, 0.0], hand_rotation=[-1.57 + roll_noise, 0 + pitch_noise, -1.57])  # TODO: make sure this is NO OBJECT\n",
    "# env.render()\n",
    "\n",
    "# note: simulator doesn't rotate around the point 0 0 0 either... we'll need to fix that"
   ]
  },
  {
   "cell_type": "code",
   "execution_count": 5,
   "id": "3f823b0c",
   "metadata": {},
   "outputs": [
    {
     "data": {
      "text/plain": [
       "[-0.011397965081607848,\n",
       " 0.04114406159453828,\n",
       " 0.007183614559094081,\n",
       " 0.08832502113858473,\n",
       " 0.041294062549291244,\n",
       " 0.026103854975344343,\n",
       " 0.08832489500532889,\n",
       " 0.04129406254980782,\n",
       " -0.026168276461965026,\n",
       " -0.03947062389920691,\n",
       " 0.0633973514600787,\n",
       " 0.013201547542268308,\n",
       " 0.11654731313670674,\n",
       " 0.06354735371438014,\n",
       " 0.03137565419511533,\n",
       " 0.11654730529100633,\n",
       " 0.06354735371441224,\n",
       " -0.031439442398386315,\n",
       " -2.6020852139652106e-18,\n",
       " 6.071532165918825e-18,\n",
       " 1.3877787807814457e-17,\n",
       " -0.04948116343207048,\n",
       " 0.07635431311099898,\n",
       " -0.06521687715807606,\n",
       " -0.0,\n",
       " -0.0,\n",
       " 0.0,\n",
       " 0.0,\n",
       " 0.0,\n",
       " 0.0,\n",
       " 0.0,\n",
       " 0.0,\n",
       " 0.0,\n",
       " 0.02037104219198227,\n",
       " 0.02037104219198227,\n",
       " 0.10546249896287918,\n",
       " 0.08434496275729382,\n",
       " 0.08832539609157548,\n",
       " 0.16945814334349601,\n",
       " 0.1631716465375126,\n",
       " 0.14753980748115775,\n",
       " 0.14162715233107603,\n",
       " 0.08072037078709081,\n",
       " 0.07951780374362612,\n",
       " 0.2024207899660105,\n",
       " 0.19494383831966028,\n",
       " 0.17961462924897525,\n",
       " 0.17225466764671296,\n",
       " 0.7068896452650238,\n",
       " 0.5750008746280698,\n",
       " 6,\n",
       " 6,\n",
       " 6,\n",
       " 6,\n",
       " 6,\n",
       " 0.5818393140900361,\n",
       " 0.5686463229894025,\n",
       " 0.6429133953528051,\n",
       " 0.6297204042521716,\n",
       " 0.8156142014683383,\n",
       " 0.8026049999499616,\n",
       " 0.8758400978230358,\n",
       " 0.8628308963046589,\n",
       " 6,\n",
       " 6,\n",
       " 6,\n",
       " 6,\n",
       " -0.0011940766770413003,\n",
       " 0.0006898774480651554,\n",
       " -0.999999049124546,\n",
       " 0.2,\n",
       " 0.2,\n",
       " 0.2,\n",
       " 0.4121407237760548,\n",
       " 0.06815041737985585,\n",
       " 0.8716402846611759,\n",
       " 7.547105163063341e-05,\n",
       " 7.443775676182358e-05,\n",
       " 0.9982857815375259,\n",
       " 3.1812292194149444e-06,\n",
       " 3.1274499446670205e-06,\n",
       " 1.0]"
      ]
     },
     "execution_count": 5,
     "metadata": {},
     "output_type": "execute_result"
    }
   ],
   "source": [
    "obs"
   ]
  },
  {
   "cell_type": "code",
   "execution_count": 6,
   "id": "9ee95640",
   "metadata": {},
   "outputs": [
    {
     "data": {
      "text/plain": [
       "[0.02037104219198227, 0.02037104219198227, 0.10546249896287918]"
      ]
     },
     "execution_count": 6,
     "metadata": {},
     "output_type": "execute_result"
    }
   ],
   "source": [
    "obs[33:36]"
   ]
  },
  {
   "cell_type": "code",
   "execution_count": 7,
   "id": "ef422636",
   "metadata": {
    "scrolled": true
   },
   "outputs": [
    {
     "data": {
      "text/plain": [
       "array([-1.13979651e-02,  4.11440616e-02,  7.18361456e-03,  8.83250211e-02,\n",
       "        4.12940625e-02,  2.61038550e-02,  8.83248950e-02,  4.12940625e-02,\n",
       "       -2.61682765e-02, -3.94706239e-02,  6.33973515e-02,  1.32015475e-02,\n",
       "        1.16547313e-01,  6.35473537e-02,  3.13756542e-02,  1.16547305e-01,\n",
       "        6.35473537e-02, -3.14394424e-02, -2.60208521e-18,  6.07153217e-18,\n",
       "        1.38777878e-17, -4.94811634e-02,  7.63543131e-02, -6.52168772e-02,\n",
       "       -0.00000000e+00, -0.00000000e+00,  0.00000000e+00,  0.00000000e+00,\n",
       "        0.00000000e+00,  0.00000000e+00,  0.00000000e+00,  0.00000000e+00,\n",
       "        0.00000000e+00,  2.03710422e-02,  2.03710422e-02,  1.05462499e-01,\n",
       "        8.43449628e-02,  8.83253961e-02,  1.69458143e-01,  1.63171647e-01,\n",
       "        1.47539807e-01,  1.41627152e-01,  8.07203708e-02,  7.95178037e-02,\n",
       "        2.02420790e-01,  1.94943838e-01,  1.79614629e-01,  1.72254668e-01,\n",
       "        7.06889645e-01,  5.75000875e-01,  6.00000000e+00,  6.00000000e+00,\n",
       "        6.00000000e+00,  6.00000000e+00,  6.00000000e+00,  5.81839314e-01,\n",
       "        5.68646323e-01,  6.42913395e-01,  6.29720404e-01,  8.15614201e-01,\n",
       "        8.02605000e-01,  8.75840098e-01,  8.62830896e-01,  6.00000000e+00,\n",
       "        6.00000000e+00,  6.00000000e+00,  6.00000000e+00, -1.19407668e-03,\n",
       "        6.89877448e-04, -9.99999049e-01,  2.00000000e-01,  2.00000000e-01,\n",
       "        2.00000000e-01,  4.12140724e-01,  6.81504174e-02,  8.71640285e-01,\n",
       "        7.54710516e-05,  7.44377568e-05,  9.98285782e-01,  3.18122922e-06,\n",
       "        3.12744994e-06,  1.00000000e+00])"
      ]
     },
     "execution_count": 7,
     "metadata": {},
     "output_type": "execute_result"
    }
   ],
   "source": [
    "np.array(obs)"
   ]
  },
  {
   "cell_type": "code",
   "execution_count": 8,
   "id": "06eb13a2",
   "metadata": {},
   "outputs": [
    {
     "data": {
      "text/plain": [
       "array([ 1.16547313e-01,  6.35473537e-02,  3.13756542e-02,  8.83250211e-02,\n",
       "        4.12940625e-02,  2.61038550e-02,  1.16547305e-01,  6.35473537e-02,\n",
       "       -3.14394424e-02,  8.83248950e-02,  4.12940625e-02, -2.61682765e-02,\n",
       "       -2.60208521e-18,  6.07153217e-18,  1.38777878e-17, -4.94811634e-02,\n",
       "        7.63543131e-02, -6.52168772e-02,  0.00000000e+00,  0.00000000e+00,\n",
       "        0.00000000e+00,  0.00000000e+00,  0.00000000e+00,  0.00000000e+00,\n",
       "        2.03710422e-02,  2.03710422e-02,  1.05462499e-01,  7.95178037e-02,\n",
       "        8.83253961e-02,  1.94943838e-01,  1.63171647e-01])"
      ]
     },
     "execution_count": 8,
     "metadata": {},
     "output_type": "execute_result"
    }
   ],
   "source": [
    "from utils import state_dim_setup\n",
    "# finger positions (12), wrist pos (3), obj pos (3), last 6 joint states (6),\n",
    "# obj size (3), finger obj dist (4)\n",
    "state_idx_arr = state_dim_setup('adam_sim2real')\n",
    "np.array(obs)[state_idx_arr]  # might need to do unit conversions"
   ]
  },
  {
   "cell_type": "code",
   "execution_count": null,
   "id": "54d683c6",
   "metadata": {},
   "outputs": [],
   "source": [
    "# dude.... determine_wrist_pos_coords is fucking hardcoded.\n",
    "\n",
    "\"\"\"\n",
    "0. plan what I want to rotate my wrist around...\n",
    "1. add some quaternion code to rotate around a centerpoint 0,0,0.\n",
    "2. generalizable rotation code..\n",
    "\n",
    "----- math -----\n",
    "what we need to solve the problem:\n",
    "hand position in space\n",
    "origin axis = 0 0 0\n",
    "how much we wanna rotate\n",
    "\n",
    "use scipy for quaternion math\n",
    "\n",
    "1. find our current orientation\n",
    "2. find the position in space to rotate around (the axis?)\n",
    "3. \n",
    "\"\"\""
   ]
  },
  {
   "cell_type": "code",
   "execution_count": 101,
   "id": "2c94a05e",
   "metadata": {},
   "outputs": [],
   "source": [
    "from scipy.spatial.transform import Rotation as R"
   ]
  },
  {
   "cell_type": "code",
   "execution_count": null,
   "id": "9f105049",
   "metadata": {},
   "outputs": [],
   "source": [
    "# position in space\n",
    "hand_point = [1, 1, 2]\n",
    "hand_orientation = []\n",
    "\n",
    "rotation_point = [0, 0, 0]  # rotate around this\n",
    "rotation_axis = [1, 1, 1]\n",
    "\n",
    "how_much_rotation = [0, 0, 0]  # in radians: roll, pitch, yaw\n",
    "\n",
    "\n",
    "\n",
    "\n",
    "# change orientation\n",
    "hand_orientation = [1, 1, 1]\n",
    "\n",
    "rotation = R.from_euler('xyz', how_much_rotation)\n",
    "\n",
    "\n",
    "\n",
    "\n",
    "\n",
    "\n"
   ]
  },
  {
   "cell_type": "code",
   "execution_count": 107,
   "id": "6e48220e",
   "metadata": {},
   "outputs": [
    {
     "data": {
      "text/plain": [
       "array([-1.,  2.,  1.])"
      ]
     },
     "execution_count": 107,
     "metadata": {},
     "output_type": "execute_result"
    }
   ],
   "source": [
    "\n",
    "# rotate along an arbitrary axis instead:\n",
    "vec = [2,1,1]\n",
    "\n",
    "rotation_degrees = 90\n",
    "rotation_radians = np.radians(rotation_degrees)\n",
    "rotation_axis = np.array([0, 0, 1])\n",
    "\n",
    "rotation_vector = rotation_radians * rotation_axis\n",
    "rotation = R.from_rotvec(rotation_vector)\n",
    "rotated_vec = rotation.apply(vec)\n",
    "rotated_vec"
   ]
  },
  {
   "cell_type": "code",
   "execution_count": 104,
   "id": "3cfe6fcc",
   "metadata": {},
   "outputs": [
    {
     "data": {
      "text/plain": [
       "array([-1.,  1.,  1.])"
      ]
     },
     "execution_count": 104,
     "metadata": {},
     "output_type": "execute_result"
    }
   ],
   "source": [
    "# a mortal's way: use euler angles\n",
    "# iirc this rotates around the point 0,0,0\n",
    "\n",
    "how_much_rotation = [0, 0, np.pi/2]\n",
    "rotation = R.from_euler('xyz', how_much_rotation)\n",
    "\n",
    "rotated_vec = rotation.apply(vec)\n",
    "rotated_vec"
   ]
  },
  {
   "cell_type": "code",
   "execution_count": null,
   "id": "c05612cf",
   "metadata": {},
   "outputs": [],
   "source": [
    "# next: rotate the actual position\n",
    "\n"
   ]
  },
  {
   "cell_type": "code",
   "execution_count": null,
   "id": "3ae124c5",
   "metadata": {},
   "outputs": [],
   "source": [
    "# provide code to rotate around an axis\n",
    "# provide code"
   ]
  },
  {
   "cell_type": "code",
   "execution_count": 108,
   "id": "6a0b6b4d",
   "metadata": {},
   "outputs": [],
   "source": [
    "def rotate_around_origin(vec, how_much_rotation):\n",
    "    # vec: xyz\n",
    "    # how_much_rotation: in radians. use np.radians to covert if necessary\n",
    "    # roll, pitch, yaw.\n",
    "    how_much_rotation = [0, 0, np.pi/2]\n",
    "    rotation = R.from_euler('xyz', how_much_rotation)\n",
    "\n",
    "    rotated_vec = rotation.apply(vec)\n",
    "    return rotated_vec\n",
    "\n",
    "def rotate_around_axis(vec, theta, axis, input_unit='deg'):\n",
    "    \"\"\"\n",
    "    vec: xyz\n",
    "    theta: single angle, but now around arbitrary axis\n",
    "    axis: defined as a 3d vector direction, xyz\n",
    "    \"\"\"\n",
    "    rotation_radians = theta\n",
    "    \n",
    "    if input_unit=='deg':\n",
    "        rotation_radians = np.radians(theta)\n",
    "    \n",
    "    rotation_axis = np.array(axis) # type conversion... just in case\n",
    "    rotation_vector = rotation_radians * rotation_axis\n",
    "    rotation = R.from_rotvec(rotation_vector)\n",
    "    rotated_vec = rotation.apply(vec)\n",
    "    return rotated_vec"
   ]
  },
  {
   "cell_type": "code",
   "execution_count": 109,
   "id": "9adfbeef",
   "metadata": {},
   "outputs": [
    {
     "data": {
      "text/plain": [
       "array([-1.,  2.,  1.])"
      ]
     },
     "execution_count": 109,
     "metadata": {},
     "output_type": "execute_result"
    }
   ],
   "source": [
    "\n",
    "rotate_around_origin(vec, how_much_rotation)"
   ]
  },
  {
   "cell_type": "code",
   "execution_count": 110,
   "id": "761a9429",
   "metadata": {},
   "outputs": [
    {
     "data": {
      "text/plain": [
       "array([-1.,  2.,  1.])"
      ]
     },
     "execution_count": 110,
     "metadata": {},
     "output_type": "execute_result"
    }
   ],
   "source": [
    "rotate_around_axis(vec, 90, [0, 0, 1])"
   ]
  },
  {
   "cell_type": "code",
   "execution_count": null,
   "id": "8c5844d5",
   "metadata": {},
   "outputs": [],
   "source": [
    "vec = [0.0, 0.18, 0.0654]\n",
    "how_much_rotation\n",
    "rotate_around_origin(vec, how_much_rotation)"
   ]
  },
  {
   "cell_type": "code",
   "execution_count": null,
   "id": "abc673b6",
   "metadata": {},
   "outputs": [],
   "source": []
  },
  {
   "cell_type": "code",
   "execution_count": null,
   "id": "a162ea89",
   "metadata": {},
   "outputs": [],
   "source": []
  },
  {
   "cell_type": "code",
   "execution_count": null,
   "id": "653d0d11",
   "metadata": {},
   "outputs": [],
   "source": [
    "global_rotation_arr = [-np.pi / 2, 0, -np.pi / 2]\n",
    "global_rot = R.from_euler('xyz', global_rotation_arr)\n",
    "\n",
    "pain = global_rot.apply([0, 0.18, 0.0654], inverse=True)"
   ]
  },
  {
   "cell_type": "code",
   "execution_count": 32,
   "id": "7577d844",
   "metadata": {},
   "outputs": [
    {
     "data": {
      "text/plain": [
       "[-0.18, -0.0654, 5.4489746048602685e-17]"
      ]
     },
     "execution_count": 32,
     "metadata": {},
     "output_type": "execute_result"
    }
   ],
   "source": [
    "list(pain)"
   ]
  },
  {
   "cell_type": "code",
   "execution_count": 4,
   "id": "51d04f9f",
   "metadata": {
    "scrolled": false
   },
   "outputs": [
    {
     "ename": "NameError",
     "evalue": "name 'env' is not defined",
     "output_type": "error",
     "traceback": [
      "\u001b[0;31m---------------------------------------------------------------------------\u001b[0m",
      "\u001b[0;31mNameError\u001b[0m                                 Traceback (most recent call last)",
      "\u001b[0;32m<ipython-input-4-4bf6e38eae78>\u001b[0m in \u001b[0;36m<module>\u001b[0;34m\u001b[0m\n\u001b[0;32m----> 1\u001b[0;31m \u001b[0menv\u001b[0m\u001b[0;34m.\u001b[0m\u001b[0mclose\u001b[0m\u001b[0;34m(\u001b[0m\u001b[0;34m)\u001b[0m\u001b[0;34m\u001b[0m\u001b[0;34m\u001b[0m\u001b[0m\n\u001b[0m\u001b[1;32m      2\u001b[0m \u001b[0;31m# next: control hand position\u001b[0m\u001b[0;34m\u001b[0m\u001b[0;34m\u001b[0m\u001b[0;34m\u001b[0m\u001b[0m\n\u001b[1;32m      3\u001b[0m \u001b[0mroll_noise\u001b[0m\u001b[0;34m,\u001b[0m \u001b[0mpitch_noise\u001b[0m\u001b[0;34m,\u001b[0m \u001b[0myaw_noise\u001b[0m \u001b[0;34m=\u001b[0m \u001b[0;36m0\u001b[0m\u001b[0;34m,\u001b[0m \u001b[0;36m0\u001b[0m\u001b[0;34m,\u001b[0m \u001b[0;36m0\u001b[0m\u001b[0;34m\u001b[0m\u001b[0;34m\u001b[0m\u001b[0m\n\u001b[1;32m      4\u001b[0m \u001b[0;34m\u001b[0m\u001b[0m\n\u001b[1;32m      5\u001b[0m \u001b[0;31m# roll_noise = np.pi / 6  # wrist go uppy/downy\u001b[0m\u001b[0;34m\u001b[0m\u001b[0;34m\u001b[0m\u001b[0;34m\u001b[0m\u001b[0m\n",
      "\u001b[0;31mNameError\u001b[0m: name 'env' is not defined"
     ]
    }
   ],
   "source": [
    "env.close()\n",
    "# next: control hand position\n",
    "roll_noise, pitch_noise, yaw_noise = 0, 0, 0\n",
    "\n",
    "# roll_noise = np.pi / 6  # wrist go uppy/downy\n",
    "# pitch_noise = np.pi / 6  # wrist pivot left/right\n",
    "# yaw_noise = np.pi / 6  # rotate the wrist (wrist twist!!)\n",
    "\n",
    "# -1.57, 0, -1.57 is the default hand position (for a side grasp)\n",
    "start_hand_rotation = [-1.57 + roll_noise, 0 + pitch_noise, -1.57 + yaw_noise]\n",
    "# start_hand_rotation = [0, , 0]\n",
    "\n",
    "# mappings from start to eulers: 2 => x (1)\n",
    "# 3 => 2\n",
    "\n",
    "env = gym.make('gym_kinova_gripper:kinovagripper-v0')  # maybe just make a new one everytime lol\n",
    "\n",
    "obs = env.reset(shape_keys=['CubeM'], hand_orientation='normal',\n",
    "                start_pos=[0.0, 0.0, 0.0], hand_rotation=start_hand_rotation)  # TODO: make sure this is NO OBJECT\n",
    "while True:\n",
    "    env.render()\n",
    "\n",
    "# note: simulator doesn't rotate around the point 0 0 0 either... we'll need to fix that"
   ]
  },
  {
   "cell_type": "code",
   "execution_count": 39,
   "id": "4a315520",
   "metadata": {},
   "outputs": [
    {
     "ename": "SyntaxError",
     "evalue": "invalid syntax (<ipython-input-39-c85853237f56>, line 1)",
     "output_type": "error",
     "traceback": [
      "\u001b[0;36m  File \u001b[0;32m\"<ipython-input-39-c85853237f56>\"\u001b[0;36m, line \u001b[0;32m1\u001b[0m\n\u001b[0;31m    [[-9.99999683e-01 -6.34136231e-07  7.96326458e-04  2.00454847e-03]\u001b[0m\n\u001b[0m                                                    ^\u001b[0m\n\u001b[0;31mSyntaxError\u001b[0m\u001b[0;31m:\u001b[0m invalid syntax\n"
     ]
    }
   ],
   "source": [
    "OLD\n",
    "[[-9.99999683e-01 -6.34136231e-07  7.96326458e-04  2.00454847e-03]\n",
    " [ 3.35742702e-16 -9.99999683e-01 -7.96326711e-04  7.11069957e-02]\n",
    " [ 7.96326711e-04 -7.96326458e-04  9.99999366e-01 -6.52838842e-02]\n",
    " [ 0.00000000e+00  0.00000000e+00  0.00000000e+00  1.00000000e+00]]"
   ]
  },
  {
   "cell_type": "code",
   "execution_count": null,
   "id": "c251dab2",
   "metadata": {},
   "outputs": [],
   "source": [
    "NEW\n",
    "[[-9.99999683e-01 -6.34136231e-07  7.96326458e-04 -5.19656058e-05]\n",
    " [ 3.35742702e-16 -9.99999683e-01 -7.96326711e-04  7.00520227e-02]\n",
    " [ 7.96326711e-04 -7.96326458e-04  9.99999366e-01 -6.52566198e-02]\n",
    " [ 0.00000000e+00  0.00000000e+00  0.00000000e+00  1.00000000e+00]]"
   ]
  },
  {
   "cell_type": "code",
   "execution_count": null,
   "id": "b79b17c4",
   "metadata": {},
   "outputs": [],
   "source": [
    "original_point = [0, 0, 0]\n",
    "rotate_around_origin(vec, how_much_rotation)"
   ]
  },
  {
   "cell_type": "code",
   "execution_count": 17,
   "id": "59ee6e1b",
   "metadata": {},
   "outputs": [
    {
     "ename": "SyntaxError",
     "evalue": "invalid syntax (<ipython-input-17-915518408dfc>, line 1)",
     "output_type": "error",
     "traceback": [
      "\u001b[0;36m  File \u001b[0;32m\"<ipython-input-17-915518408dfc>\"\u001b[0;36m, line \u001b[0;32m1\u001b[0m\n\u001b[0;31m    [0.02037104 0.02037104 0.05273125] == [0.02037104 0.02037104 0.05273125]\u001b[0m\n\u001b[0m                         ^\u001b[0m\n\u001b[0;31mSyntaxError\u001b[0m\u001b[0;31m:\u001b[0m invalid syntax\n"
     ]
    }
   ],
   "source": [
    "[0.02037104 0.02037104 0.05273125] == [0.02037104 0.02037104 0.05273125]"
   ]
  },
  {
   "cell_type": "code",
   "execution_count": 29,
   "id": "da34146a",
   "metadata": {},
   "outputs": [
    {
     "data": {
      "text/plain": [
       "array([0.0479375, 0.0479375, 0.11505  ])"
      ]
     },
     "execution_count": 29,
     "metadata": {},
     "output_type": "execute_result"
    }
   ],
   "source": [
    "cubeb = 2 * np.array([0.02396875, 0.02396875, 0.057525])\n",
    "cubeb"
   ]
  },
  {
   "cell_type": "code",
   "execution_count": 32,
   "id": "fb395d28",
   "metadata": {},
   "outputs": [
    {
     "data": {
      "text/plain": [
       "array([0.04074208, 0.04074208, 0.1054625 ])"
      ]
     },
     "execution_count": 32,
     "metadata": {},
     "output_type": "execute_result"
    }
   ],
   "source": [
    "cubem = 2 * np.array([0.02037104, 0.02037104, 0.05273125])\n",
    "cubem"
   ]
  },
  {
   "cell_type": "code",
   "execution_count": 34,
   "id": "8c28a57a",
   "metadata": {},
   "outputs": [
    {
     "data": {
      "text/plain": [
       "array([0.04254132, 0.0425009 , 0.11000228])"
      ]
     },
     "execution_count": 34,
     "metadata": {},
     "output_type": "execute_result"
    }
   ],
   "source": [
    "cylinderm = 2 * np.array([0.02127066, 0.02125045, 0.05500114])\n",
    "cylinderm"
   ]
  },
  {
   "cell_type": "code",
   "execution_count": 27,
   "id": "6992ab37",
   "metadata": {},
   "outputs": [
    {
     "data": {
      "text/plain": [
       "0.0105"
      ]
     },
     "execution_count": 27,
     "metadata": {},
     "output_type": "execute_result"
    }
   ],
   "source": [
    "0.001 * 10.5"
   ]
  },
  {
   "cell_type": "code",
   "execution_count": null,
   "id": "e872a7f3",
   "metadata": {},
   "outputs": [],
   "source": []
  },
  {
   "cell_type": "code",
   "execution_count": 18,
   "id": "352950ba",
   "metadata": {},
   "outputs": [
    {
     "data": {
      "text/plain": [
       "'\\nnote: figure out how to render image in environment\\n\\n1. do config shit\\n2. get all permutaations of simulator to go through\\n3. for each permuation: do the whole thing, log the whole thing.\\n\\n4. \\n\\n'"
      ]
     },
     "execution_count": 18,
     "metadata": {},
     "output_type": "execute_result"
    }
   ],
   "source": [
    "# logger loop\n",
    "\n",
    "# copy from main experiment\n",
    "\n",
    "\"\"\"\n",
    "note: figure out how to render image in environment\n",
    "\n",
    "1. do config shit\n",
    "2. get all permutaations of simulator to go through\n",
    "3. for each permuation: do the whole thing, log the whole thing.\n",
    "\n",
    "4. \n",
    "\n",
    "\"\"\""
   ]
  },
  {
   "cell_type": "code",
   "execution_count": 3,
   "id": "a6ca3163",
   "metadata": {},
   "outputs": [],
   "source": [
    "import xml.etree.ElementTree as ET"
   ]
  },
  {
   "cell_type": "code",
   "execution_count": 4,
   "id": "7714e07a",
   "metadata": {},
   "outputs": [],
   "source": [
    "# adjust these as input parameters\n",
    "input_pos = [0.0, 0.0, 0.0]\n",
    "input_euler = [1.57, 0.0, -1.57]\n",
    "\n",
    "desired_pos = ' '.join([str(float_item) for float_item in input_pos])\n",
    "desired_euler = ' '.join([str(float_item) for float_item in input_euler])\n",
    "\n",
    "\n",
    "xml_filepath = '/home/jimzers/sim-to-real-kinova/src/sim-to-real-kinova-master/openai_gym_kinova/src/gym_kinova_gripper/envs/kinova_description/j2s7s300_end_effector_v1_CylinderM.xml'\n",
    "# ASSUMPTIONS: ROOT IS FIRST BODY, THEN J2S7S300_LINK_7 IS THE NEXT FIRST NESTED BODY\n",
    "\n",
    "tree = ET.parse(xml_filepath)\n",
    "root = tree.getroot()\n",
    "\n",
    "# according to assumptions, we find the wrist link.\n",
    "j2s7s300_link_7_tag = root.find('worldbody').find('body').find('body')\n",
    "\n",
    "# we then get the position and euler orientation\n",
    "wrist_link_pos = j2s7s300_link_7_tag.attrib['pos']\n",
    "wrist_link_euler_rot = j2s7s300_link_7_tag.attrib['euler']\n",
    "\n",
    "# optional: access the current values.\n",
    "wrist_link_pos_float_arr = [float(str_item) for str_item in wrist_link_pos.split()]\n",
    "wrist_link_euler_rot_float_arr = [float(str_item) for str_item in wrist_link_euler_rot.split()]\n",
    "\n",
    "# next, we modify them. we give an example here\n",
    "j2s7s300_link_7_tag.set('pos', desired_pos)\n",
    "j2s7s300_link_7_tag.set('euler', desired_euler)\n",
    "\n",
    "# now, write to the xml file. and because we don't like keeping history, we'll just overwrite the existing file.\n",
    "new_filepath = xml_filepath  # if you want to break the cycle, go ahead and change this variable\n",
    "\n",
    "tree.write(new_filepath)"
   ]
  },
  {
   "cell_type": "code",
   "execution_count": 51,
   "id": "50debe04",
   "metadata": {},
   "outputs": [],
   "source": [
    "wrist_link_pos_float_arr = [float(str_item) for str_item in wrist_link_pos.split()]\n",
    "wrist_link_euler_rot_float_arr = [float(str_item) for str_item in wrist_link_euler_rot.split()]"
   ]
  },
  {
   "cell_type": "code",
   "execution_count": null,
   "id": "b2d886d5",
   "metadata": {},
   "outputs": [],
   "source": []
  },
  {
   "cell_type": "code",
   "execution_count": 41,
   "id": "f70c1950",
   "metadata": {},
   "outputs": [
    {
     "data": {
      "text/plain": [
       "{'name': 'root', 'pos': '0 0 0'}"
      ]
     },
     "execution_count": 41,
     "metadata": {},
     "output_type": "execute_result"
    }
   ],
   "source": [
    "root_body = root.find('worldbody').find('body')\n",
    "root_body.attrib"
   ]
  },
  {
   "cell_type": "code",
   "execution_count": 39,
   "id": "885ffae7",
   "metadata": {},
   "outputs": [
    {
     "data": {
      "text/plain": [
       "<Element 'body' at 0x7f43d2d7eb88>"
      ]
     },
     "execution_count": 39,
     "metadata": {},
     "output_type": "execute_result"
    }
   ],
   "source": [
    "root_body = root.find('worldbody').find('body')\n",
    "\n",
    "tmp_item = None\n",
    "for item in root_body.findall('body'):\n",
    "    tmp_item = itme"
   ]
  },
  {
   "cell_type": "code",
   "execution_count": 46,
   "id": "6b2bc33f",
   "metadata": {},
   "outputs": [
    {
     "data": {
      "text/plain": [
       "{'name': 'j2s7s300_link_7', 'pos': '0.0 0.18 0.0654', 'euler': '-1.57 0 -1.57'}"
      ]
     },
     "execution_count": 46,
     "metadata": {},
     "output_type": "execute_result"
    }
   ],
   "source": [
    "\n",
    "j2s7s300_link_7_tag = root.find('worldbody').find('body').find('body')\n",
    "j2s7s300_link_7_tag.attrib"
   ]
  },
  {
   "cell_type": "code",
   "execution_count": 47,
   "id": "39352d47",
   "metadata": {},
   "outputs": [],
   "source": [
    "wrist_link_pos = j2s7s300_link_7_tag.attrib['pos']\n",
    "wrist_link_euler_rot = j2s7s300_link_7_tag.attrib['euler']\n"
   ]
  },
  {
   "cell_type": "code",
   "execution_count": null,
   "id": "ecad17b2",
   "metadata": {},
   "outputs": [],
   "source": []
  },
  {
   "cell_type": "code",
   "execution_count": null,
   "id": "7ac1e8e2",
   "metadata": {},
   "outputs": [],
   "source": [
    "j2s7s300_link_7_tag"
   ]
  },
  {
   "cell_type": "code",
   "execution_count": 30,
   "id": "8425bf67",
   "metadata": {},
   "outputs": [],
   "source": [
    "\n",
    "mydoc = minidom.parse(xml_filepath)"
   ]
  },
  {
   "cell_type": "code",
   "execution_count": 16,
   "id": "442fe19c",
   "metadata": {},
   "outputs": [],
   "source": [
    "from scipy.spatial.transform import Rotation as R\n",
    "\n",
    "def rotate_around_origin(vec, how_much_rotation):\n",
    "    # vec: xyz\n",
    "    # how_much_rotation: in radians. use np.radians to covert if necessary\n",
    "    # roll, pitch, yaw.\n",
    "    rotation = R.from_euler('xyz', how_much_rotation)\n",
    "\n",
    "    rotated_vec = rotation.apply(vec)\n",
    "    return rotated_vec"
   ]
  },
  {
   "cell_type": "code",
   "execution_count": 17,
   "id": "87f215bd",
   "metadata": {},
   "outputs": [
    {
     "data": {
      "text/plain": [
       "array([ 0.  , 18.  ,  0.54])"
      ]
     },
     "execution_count": 17,
     "metadata": {},
     "output_type": "execute_result"
    }
   ],
   "source": [
    "rotate_around_origin([0,18,0.54], [0,0,0])"
   ]
  },
  {
   "cell_type": "code",
   "execution_count": 35,
   "id": "eee0f9a2",
   "metadata": {},
   "outputs": [
    {
     "data": {
      "text/plain": [
       "array([-1.57079633,  0.        , -1.57079633])"
      ]
     },
     "execution_count": 35,
     "metadata": {},
     "output_type": "execute_result"
    }
   ],
   "source": [
    "bruh = rotate_around_origin([-np.pi/2, 0, -np.pi/2], [0,0,0])\n",
    "[0,18,0.54] => already in a world frame\n"
   ]
  },
  {
   "cell_type": "code",
   "execution_count": null,
   "id": "2a88a1a9",
   "metadata": {},
   "outputs": [],
   "source": [
    "default_rotation = R.from_euler('xyz', [-np.pi/2, 0, -np.pi/2])\n",
    "\n",
    "rotated_vec = rotation.apply(vec)"
   ]
  },
  {
   "cell_type": "code",
   "execution_count": 5,
   "id": "d7b67d4b",
   "metadata": {},
   "outputs": [
    {
     "data": {
      "text/plain": [
       "array([ 1., -1., -1.])"
      ]
     },
     "execution_count": 5,
     "metadata": {},
     "output_type": "execute_result"
    }
   ],
   "source": [
    "from scipy.spatial.transform import Rotation as R\n",
    "\n",
    "test_vec = np.array([1, 1, 1])\n",
    "\n",
    "# first add rotation noise\n",
    "default_rotation = R.from_euler('xyz', [-np.pi/2, 0, -np.pi/2])\n",
    "\n",
    "default_rotation.apply(test_vec)\n",
    "\n",
    "# then add true rotation\n",
    "\n",
    "# noise: add wrt to global frame?\n",
    "\n",
    "# the actual translation:\n"
   ]
  },
  {
   "cell_type": "code",
   "execution_count": 7,
   "id": "22444f3f",
   "metadata": {},
   "outputs": [],
   "source": [
    "import pandas as pd\n",
    "df = pd.DataFrame(np.random.rand(5,2),index=range(0,10,2),columns=list('AB'))"
   ]
  },
  {
   "cell_type": "code",
   "execution_count": 13,
   "id": "73a54a74",
   "metadata": {},
   "outputs": [
    {
     "data": {
      "text/html": [
       "<div>\n",
       "<style scoped>\n",
       "    .dataframe tbody tr th:only-of-type {\n",
       "        vertical-align: middle;\n",
       "    }\n",
       "\n",
       "    .dataframe tbody tr th {\n",
       "        vertical-align: top;\n",
       "    }\n",
       "\n",
       "    .dataframe thead th {\n",
       "        text-align: right;\n",
       "    }\n",
       "</style>\n",
       "<table border=\"1\" class=\"dataframe\">\n",
       "  <thead>\n",
       "    <tr style=\"text-align: right;\">\n",
       "      <th></th>\n",
       "      <th>A</th>\n",
       "      <th>B</th>\n",
       "    </tr>\n",
       "  </thead>\n",
       "  <tbody>\n",
       "    <tr>\n",
       "      <th>0</th>\n",
       "      <td>0.285088</td>\n",
       "      <td>0.587229</td>\n",
       "    </tr>\n",
       "    <tr>\n",
       "      <th>2</th>\n",
       "      <td>0.996660</td>\n",
       "      <td>0.087878</td>\n",
       "    </tr>\n",
       "    <tr>\n",
       "      <th>4</th>\n",
       "      <td>0.889068</td>\n",
       "      <td>0.529402</td>\n",
       "    </tr>\n",
       "    <tr>\n",
       "      <th>6</th>\n",
       "      <td>0.000973</td>\n",
       "      <td>0.901505</td>\n",
       "    </tr>\n",
       "    <tr>\n",
       "      <th>8</th>\n",
       "      <td>0.392208</td>\n",
       "      <td>0.837493</td>\n",
       "    </tr>\n",
       "  </tbody>\n",
       "</table>\n",
       "</div>"
      ],
      "text/plain": [
       "          A         B\n",
       "0  0.285088  0.587229\n",
       "2  0.996660  0.087878\n",
       "4  0.889068  0.529402\n",
       "6  0.000973  0.901505\n",
       "8  0.392208  0.837493"
      ]
     },
     "execution_count": 13,
     "metadata": {},
     "output_type": "execute_result"
    }
   ],
   "source": [
    "df"
   ]
  },
  {
   "cell_type": "code",
   "execution_count": 21,
   "id": "bf56b532",
   "metadata": {},
   "outputs": [
    {
     "data": {
      "text/plain": [
       "array([0.39220818, 0.83749272])"
      ]
     },
     "execution_count": 21,
     "metadata": {},
     "output_type": "execute_result"
    }
   ],
   "source": [
    "df.iloc[4][['A', 'B']].to_numpy()"
   ]
  },
  {
   "cell_type": "code",
   "execution_count": null,
   "id": "410daa25",
   "metadata": {},
   "outputs": [],
   "source": []
  },
  {
   "cell_type": "code",
   "execution_count": null,
   "id": "537043ce",
   "metadata": {},
   "outputs": [],
   "source": []
  },
  {
   "cell_type": "code",
   "execution_count": null,
   "id": "717942b0",
   "metadata": {},
   "outputs": [],
   "source": []
  },
  {
   "cell_type": "code",
   "execution_count": null,
   "id": "de101dc7",
   "metadata": {},
   "outputs": [],
   "source": []
  },
  {
   "cell_type": "code",
   "execution_count": null,
   "id": "576adba2",
   "metadata": {},
   "outputs": [],
   "source": []
  },
  {
   "cell_type": "code",
   "execution_count": null,
   "id": "746a558f",
   "metadata": {},
   "outputs": [],
   "source": []
  },
  {
   "cell_type": "code",
   "execution_count": null,
   "id": "fd94f57b",
   "metadata": {},
   "outputs": [],
   "source": []
  },
  {
   "cell_type": "code",
   "execution_count": null,
   "id": "e713789f",
   "metadata": {},
   "outputs": [],
   "source": []
  },
  {
   "cell_type": "code",
   "execution_count": null,
   "id": "15c1cc60",
   "metadata": {},
   "outputs": [],
   "source": []
  },
  {
   "cell_type": "code",
   "execution_count": null,
   "id": "9f6cf773",
   "metadata": {},
   "outputs": [],
   "source": []
  },
  {
   "cell_type": "code",
   "execution_count": null,
   "id": "6767bf54",
   "metadata": {},
   "outputs": [],
   "source": []
  },
  {
   "cell_type": "code",
   "execution_count": null,
   "id": "5c801b06",
   "metadata": {},
   "outputs": [],
   "source": []
  },
  {
   "cell_type": "code",
   "execution_count": null,
   "id": "268918ed",
   "metadata": {},
   "outputs": [],
   "source": []
  },
  {
   "cell_type": "code",
   "execution_count": null,
   "id": "2fcb9eaa",
   "metadata": {},
   "outputs": [],
   "source": []
  },
  {
   "cell_type": "code",
   "execution_count": null,
   "id": "19a84f42",
   "metadata": {},
   "outputs": [],
   "source": []
  },
  {
   "cell_type": "code",
   "execution_count": null,
   "id": "8b83d431",
   "metadata": {},
   "outputs": [],
   "source": []
  },
  {
   "cell_type": "code",
   "execution_count": null,
   "id": "e3f9ad3a",
   "metadata": {},
   "outputs": [],
   "source": []
  },
  {
   "cell_type": "code",
   "execution_count": null,
   "id": "0d0372bd",
   "metadata": {},
   "outputs": [],
   "source": []
  },
  {
   "cell_type": "markdown",
   "id": "fa721224",
   "metadata": {},
   "source": [
    "### simulator hell"
   ]
  },
  {
   "cell_type": "code",
   "execution_count": null,
   "id": "756f1954",
   "metadata": {
    "scrolled": false
   },
   "outputs": [
    {
     "name": "stdout",
     "output_type": "stream",
     "text": [
      "selecting object...\n",
      "going into experiment function\n",
      "EXPERIMENT FUNCTION before\n",
      "{}\n",
      "['CubeM']\n",
      "EXPERIMENT FUNCTION\n",
      "{'CubeM': '/kinova_description/j2s7s300_end_effector_v1_CubeM.xml'}\n",
      "['CubeM']\n",
      "hi, what could go wrong\n",
      "FILENAME objects_file_to_list:  NONOfNOobjects.csv\n",
      "shape keys: ['CubeM']\n",
      "the filepath is: NONOfNOobjects.csv\n",
      "THE FILENAME DOESNT EXIST\n",
      "IM GENERATING LATIN SQUARES 1036\n",
      "why the fuck am i entering self.experiment again\n",
      "SHAPE KEYS: ['CubeM']\n",
      "object keys: dict_keys(['CubeM'])\n",
      "EXPERIMENT FUNCTION before\n",
      "{'CubeM': '/kinova_description/j2s7s300_end_effector_v1_CubeM.xml'}\n",
      "['CubeM']\n",
      "EXPERIMENT FUNCTION\n",
      "{'CubeM': '/kinova_description/j2s7s300_end_effector_v1_CubeM.xml'}\n",
      "['CubeM']\n",
      "TEMP <= N\n",
      "TEMP <= N\n",
      "TEMP <= N\n",
      "TEMP <= N\n",
      "TEMP <= N\n",
      "TEMP <= N\n",
      "TEMP <= N\n",
      "TEMP <= N\n",
      "TEMP <= N\n",
      "NONOfNOobjects.csv\n",
      "wtfwtf\n",
      "wtfwtf\n",
      "wtfwtf\n",
      "wtfwtf\n",
      "wtfwtf\n",
      "wtfwtf\n",
      "wtfwtf\n",
      "wtfwtf\n",
      "wtfwtf\n",
      "get the object lol ==========\n",
      "OUR RANDOM SHAPES BEFOREHAND\n",
      "['CubeM', 'CubeM', 'CubeM', 'CubeM', 'CubeM', 'CubeM', 'CubeM', 'CubeM', 'CubeM', 'CubeM', 'CubeM', 'CubeM', 'CubeM', 'CubeM', 'CubeM', 'CubeM', 'CubeM', 'CubeM']\n",
      "BRUHHHHHHHHHHH\n",
      "EXPERIMENT FUNCTION before\n",
      "{'CubeM': '/kinova_description/j2s7s300_end_effector_v1_CubeM.xml'}\n",
      "['CubeM']\n",
      "EXPERIMENT FUNCTION\n",
      "{'CubeM': '/kinova_description/j2s7s300_end_effector_v1_CubeM.xml'}\n",
      "['CubeM']\n",
      "oreintation: normal\n",
      "\n",
      "hihihihhihihihihihihio\n",
      "what is wrong with you LOL\n",
      "well hello THERE! DETERMINE_WRIST_POS_COORDS\n",
      "normal\n",
      "CubeM\n",
      "XML FILEPATH: /home/mechagodzilla/sim-to-real-kinova/src/sim-to-real-kinova-master/openai_gym_kinova/src/gym_kinova_gripper/envs/kinova_description/j2s7s300_end_effector_v1_CubeM.xml\n",
      "/home/mechagodzilla/sim-to-real-kinova/src/sim-to-real-kinova-master/openai_gym_kinova/src/gym_kinova_gripper/envs/kinova_description/j2s7s300_end_effector_v1_CubeM.xml\n",
      "Creating window glfw\n"
     ]
    }
   ],
   "source": [
    "env.close()\n",
    "# next: control hand position\n",
    "roll_noise, pitch_noise, yaw_noise = 0, 0, 0\n",
    "\n",
    "# roll_noise = np.pi / 6  # wrist go uppy/downy\n",
    "# pitch_noise = np.pi / 6  # wrist pivot left/right\n",
    "# yaw_noise = np.pi / 6  # rotate the wrist (wrist twist!!)\n",
    "\n",
    "# -1.57, 0, -1.57 is the default hand position (for a side grasp)\n",
    "start_hand_rotation = [-1.57 + roll_noise, 0 + pitch_noise, -1.57 + yaw_noise]\n",
    "# start_hand_rotation = [0, , 0]\n",
    "\n",
    "# mappings from start to eulers: 2 => x (1)\n",
    "# 3 => 2\n",
    "\n",
    "env = gym.make('gym_kinova_gripper:kinovagripper-v0')  # maybe just make a new one everytime lol\n",
    "\n",
    "obs = env.reset(shape_keys=['CubeM'], hand_orientation='normal',\n",
    "                start_pos=[0.0, 0.0, 0.053], hand_rotation=start_hand_rotation)  # TODO: make sure this is NO OBJECT\n",
    "while True:\n",
    "    env.render()\n",
    "\n",
    "# note: simulator doesn't rotate around the point 0 0 0 either... we'll need to fix that"
   ]
  },
  {
   "cell_type": "code",
   "execution_count": null,
   "id": "e5f26553",
   "metadata": {},
   "outputs": [],
   "source": [
    "\n",
    "\t\t\t\t\t<body name=\"j2s7s300_link_finger_1\" pos=\"0.00279 0.03126 -0.11467\" quat=\"0.379408 -0.662973 -0.245899 0.596699\">\n"
   ]
  },
  {
   "cell_type": "code",
   "execution_count": 63,
   "id": "a87080bf",
   "metadata": {},
   "outputs": [
    {
     "name": "stdout",
     "output_type": "stream",
     "text": [
      "lol\n"
     ]
    }
   ],
   "source": [
    "env.close()"
   ]
  },
  {
   "cell_type": "code",
   "execution_count": 3,
   "id": "1ed45868",
   "metadata": {},
   "outputs": [],
   "source": [
    "from scipy.spatial.transform import Rotation as R"
   ]
  },
  {
   "cell_type": "code",
   "execution_count": null,
   "id": "5045d0fe",
   "metadata": {},
   "outputs": [],
   "source": [
    "0.379408 -0.662973 -0.245899 0.596699"
   ]
  },
  {
   "cell_type": "code",
   "execution_count": null,
   "id": "6686aa69",
   "metadata": {},
   "outputs": [],
   "source": [
    "                <body name=\"j2s7s300_link_finger_1\" pos=\"0.00279 0.03126 -0.11467\" quat=\"0.379408 -0.662973 -0.245899 0.596699\">\n"
   ]
  },
  {
   "cell_type": "code",
   "execution_count": 36,
   "id": "159b52e1",
   "metadata": {},
   "outputs": [
    {
     "data": {
      "text/plain": [
       "array([ 1.57079924, -1.35961082, -2.49232776])"
      ]
     },
     "execution_count": 36,
     "metadata": {},
     "output_type": "execute_result"
    }
   ],
   "source": [
    "urmom_bruh = R.from_quat([0.596699, 0.379408, -0.662973, -0.245899]).as_euler('XYZ')\n",
    "urmom_bruh"
   ]
  },
  {
   "cell_type": "code",
   "execution_count": 38,
   "id": "9e80f861",
   "metadata": {},
   "outputs": [
    {
     "data": {
      "text/plain": [
       "array([ 1.57079924, -1.35961082, -0.92153143])"
      ]
     },
     "execution_count": 38,
     "metadata": {},
     "output_type": "execute_result"
    }
   ],
   "source": [
    "urmom_bruh[2] += np.pi/2\n",
    "urmom_bruh"
   ]
  },
  {
   "cell_type": "code",
   "execution_count": 18,
   "id": "85030c7e",
   "metadata": {},
   "outputs": [],
   "source": [
    "quat_lol = R.from_euler('XYZ', urmom)"
   ]
  },
  {
   "cell_type": "code",
   "execution_count": 19,
   "id": "c52f791d",
   "metadata": {},
   "outputs": [
    {
     "data": {
      "text/plain": [
       "<scipy.spatial.transform.rotation.Rotation at 0x7f294536c588>"
      ]
     },
     "execution_count": 19,
     "metadata": {},
     "output_type": "execute_result"
    }
   ],
   "source": [
    "quat_lol.as_euler()"
   ]
  },
  {
   "cell_type": "code",
   "execution_count": 48,
   "id": "c260a4e6",
   "metadata": {},
   "outputs": [
    {
     "data": {
      "text/plain": [
       "array([ 1.57079924, -1.35961082, -2.49232776])"
      ]
     },
     "execution_count": 48,
     "metadata": {},
     "output_type": "execute_result"
    }
   ],
   "source": [
    "finger1_base = R.from_quat([0.596699, 0.379408, -0.662973, -0.245899]).as_euler('XYZ')\n",
    "finger1_base\n",
    "\n",
    "# TODO: try transforming back to quaternion?"
   ]
  },
  {
   "cell_type": "code",
   "execution_count": 18,
   "id": "c85647ec",
   "metadata": {},
   "outputs": [
    {
     "data": {
      "text/plain": [
       "array([ 2.49232776, -1.35961082,  1.57079342])"
      ]
     },
     "execution_count": 18,
     "metadata": {},
     "output_type": "execute_result"
    }
   ],
   "source": [
    "quat2euler([0.596699, 0.379408, -0.662973, -0.245899])"
   ]
  },
  {
   "cell_type": "code",
   "execution_count": 49,
   "id": "81449a99",
   "metadata": {},
   "outputs": [
    {
     "data": {
      "text/plain": [
       "array([ 1.57079924, -1.35961082, -2.23052837])"
      ]
     },
     "execution_count": 49,
     "metadata": {},
     "output_type": "execute_result"
    }
   ],
   "source": [
    "finger1_base[2] += np.pi/12\n",
    "finger1_base"
   ]
  },
  {
   "cell_type": "markdown",
   "id": "b9cd6613",
   "metadata": {},
   "source": [
    "### mujoco is a bitch and all quats in mujoco are wxyz form.\n",
    "scipy is xyzw form"
   ]
  },
  {
   "cell_type": "code",
   "execution_count": 4,
   "id": "8172c1aa",
   "metadata": {},
   "outputs": [
    {
     "data": {
      "text/plain": [
       "array([ 1.57079223,  1.3861396 , -2.23052714])"
      ]
     },
     "execution_count": 4,
     "metadata": {},
     "output_type": "execute_result"
    }
   ],
   "source": [
    "finger2_base = R.from_quat([-0.254671, 0.659653, -0.37146, 0.601679]).as_euler('XYZ')\n",
    "finger2_base[2] += np.pi/12\n",
    "finger2_base"
   ]
  },
  {
   "cell_type": "code",
   "execution_count": 27,
   "id": "89531aec",
   "metadata": {},
   "outputs": [
    {
     "data": {
      "text/plain": [
       "array([-1.57080042,  1.3861396 ,  0.91106551])"
      ]
     },
     "execution_count": 27,
     "metadata": {},
     "output_type": "execute_result"
    }
   ],
   "source": [
    "finger3_base = R.from_quat([-0.37146, 0.601679, -0.254671, 0.659653]).as_euler('XYZ')\n",
    "finger3_base[2] += np.pi/12\n",
    "finger3_base"
   ]
  },
  {
   "cell_type": "code",
   "execution_count": 29,
   "id": "3e860420",
   "metadata": {},
   "outputs": [
    {
     "data": {
      "text/plain": [
       "0.2617993877991494"
      ]
     },
     "execution_count": 29,
     "metadata": {},
     "output_type": "execute_result"
    }
   ],
   "source": [
    "np.pi/12"
   ]
  },
  {
   "cell_type": "code",
   "execution_count": null,
   "id": "590ef3c9",
   "metadata": {},
   "outputs": [],
   "source": []
  },
  {
   "cell_type": "code",
   "execution_count": 17,
   "id": "8f812294",
   "metadata": {},
   "outputs": [],
   "source": [
    "\n",
    "# For testing whether a number is close to zero\n",
    "_FLOAT_EPS = np.finfo(np.float64).eps\n",
    "_EPS4 = _FLOAT_EPS * 4.0\n",
    "def euler2mat(euler):\n",
    "    \"\"\"Convert Euler Angles to Rotation Matrix.  See rotation.py for notes\"\"\"\n",
    "    euler = np.asarray(euler, dtype=np.float64)\n",
    "    assert euler.shape[-1] == 3, \"Invalid shaped euler {}\".format(euler)\n",
    "\n",
    "    ai, aj, ak = -euler[..., 2], -euler[..., 1], -euler[..., 0]\n",
    "    si, sj, sk = np.sin(ai), np.sin(aj), np.sin(ak)\n",
    "    ci, cj, ck = np.cos(ai), np.cos(aj), np.cos(ak)\n",
    "    cc, cs = ci * ck, ci * sk\n",
    "    sc, ss = si * ck, si * sk\n",
    "\n",
    "    mat = np.empty(euler.shape[:-1] + (3, 3), dtype=np.float64)\n",
    "    mat[..., 2, 2] = cj * ck\n",
    "    mat[..., 2, 1] = sj * sc - cs\n",
    "    mat[..., 2, 0] = sj * cc + ss\n",
    "    mat[..., 1, 2] = cj * sk\n",
    "    mat[..., 1, 1] = sj * ss + cc\n",
    "    mat[..., 1, 0] = sj * cs - sc\n",
    "    mat[..., 0, 2] = -sj\n",
    "    mat[..., 0, 1] = cj * si\n",
    "    mat[..., 0, 0] = cj * ci\n",
    "    return mat\n",
    "\n",
    "\n",
    "def euler2quat(euler):\n",
    "    \"\"\"Convert Euler Angles to Quaternions.  See rotation.py for notes\"\"\"\n",
    "    euler = np.asarray(euler, dtype=np.float64)\n",
    "    assert euler.shape[-1] == 3, \"Invalid shape euler {}\".format(euler)\n",
    "\n",
    "    ai, aj, ak = euler[..., 2] / 2, -euler[..., 1] / 2, euler[..., 0] / 2\n",
    "    si, sj, sk = np.sin(ai), np.sin(aj), np.sin(ak)\n",
    "    ci, cj, ck = np.cos(ai), np.cos(aj), np.cos(ak)\n",
    "    cc, cs = ci * ck, ci * sk\n",
    "    sc, ss = si * ck, si * sk\n",
    "\n",
    "    quat = np.empty(euler.shape[:-1] + (4,), dtype=np.float64)\n",
    "    quat[..., 0] = cj * cc + sj * ss\n",
    "    quat[..., 3] = cj * sc - sj * cs\n",
    "    quat[..., 2] = -(cj * ss + sj * cc)\n",
    "    quat[..., 1] = cj * cs - sj * sc\n",
    "    return quat\n",
    "\n",
    "\n",
    "def mat2euler(mat):\n",
    "    \"\"\"Convert Rotation Matrix to Euler Angles.  See rotation.py for notes\"\"\"\n",
    "    mat = np.asarray(mat, dtype=np.float64)\n",
    "    assert mat.shape[-2:] == (3, 3), \"Invalid shape matrix {}\".format(mat)\n",
    "\n",
    "    cy = np.sqrt(mat[..., 2, 2] * mat[..., 2, 2] + mat[..., 1, 2] * mat[..., 1, 2])\n",
    "    condition = cy > _EPS4\n",
    "    euler = np.empty(mat.shape[:-1], dtype=np.float64)\n",
    "    euler[..., 2] = np.where(\n",
    "        condition,\n",
    "        -np.arctan2(mat[..., 0, 1], mat[..., 0, 0]),\n",
    "        -np.arctan2(-mat[..., 1, 0], mat[..., 1, 1]),\n",
    "    )\n",
    "    euler[..., 1] = np.where(\n",
    "        condition, -np.arctan2(-mat[..., 0, 2], cy), -np.arctan2(-mat[..., 0, 2], cy)\n",
    "    )\n",
    "    euler[..., 0] = np.where(\n",
    "        condition, -np.arctan2(mat[..., 1, 2], mat[..., 2, 2]), 0.0\n",
    "    )\n",
    "    return euler\n",
    "\n",
    "\n",
    "def mat2quat(mat):\n",
    "    \"\"\"Convert Rotation Matrix to Quaternion.  See rotation.py for notes\"\"\"\n",
    "    mat = np.asarray(mat, dtype=np.float64)\n",
    "    assert mat.shape[-2:] == (3, 3), \"Invalid shape matrix {}\".format(mat)\n",
    "\n",
    "    Qxx, Qyx, Qzx = mat[..., 0, 0], mat[..., 0, 1], mat[..., 0, 2]\n",
    "    Qxy, Qyy, Qzy = mat[..., 1, 0], mat[..., 1, 1], mat[..., 1, 2]\n",
    "    Qxz, Qyz, Qzz = mat[..., 2, 0], mat[..., 2, 1], mat[..., 2, 2]\n",
    "    # Fill only lower half of symmetric matrix\n",
    "    K = np.zeros(mat.shape[:-2] + (4, 4), dtype=np.float64)\n",
    "    K[..., 0, 0] = Qxx - Qyy - Qzz\n",
    "    K[..., 1, 0] = Qyx + Qxy\n",
    "    K[..., 1, 1] = Qyy - Qxx - Qzz\n",
    "    K[..., 2, 0] = Qzx + Qxz\n",
    "    K[..., 2, 1] = Qzy + Qyz\n",
    "    K[..., 2, 2] = Qzz - Qxx - Qyy\n",
    "    K[..., 3, 0] = Qyz - Qzy\n",
    "    K[..., 3, 1] = Qzx - Qxz\n",
    "    K[..., 3, 2] = Qxy - Qyx\n",
    "    K[..., 3, 3] = Qxx + Qyy + Qzz\n",
    "    K /= 3.0\n",
    "    # TODO: vectorize this -- probably could be made faster\n",
    "    q = np.empty(K.shape[:-2] + (4,))\n",
    "    it = np.nditer(q[..., 0], flags=[\"multi_index\"])\n",
    "    while not it.finished:\n",
    "        # Use Hermitian eigenvectors, values for speed\n",
    "        vals, vecs = np.linalg.eigh(K[it.multi_index])\n",
    "        # Select largest eigenvector, reorder to w,x,y,z quaternion\n",
    "        q[it.multi_index] = vecs[[3, 0, 1, 2], np.argmax(vals)]\n",
    "        # Prefer quaternion with positive w\n",
    "        # (q * -1 corresponds to same rotation as q)\n",
    "        if q[it.multi_index][0] < 0:\n",
    "            q[it.multi_index] *= -1\n",
    "        it.iternext()\n",
    "    return q\n",
    "\n",
    "\n",
    "def quat2euler(quat):\n",
    "    \"\"\"Convert Quaternion to Euler Angles.  See rotation.py for notes\"\"\"\n",
    "    return mat2euler(quat2mat(quat))\n",
    "\n",
    "\n",
    "def subtract_euler(e1, e2):\n",
    "    assert e1.shape == e2.shape\n",
    "    assert e1.shape[-1] == 3\n",
    "    q1 = euler2quat(e1)\n",
    "    q2 = euler2quat(e2)\n",
    "    q_diff = quat_mul(q1, quat_conjugate(q2))\n",
    "    return quat2euler(q_diff)\n",
    "\n",
    "\n",
    "def quat2mat(quat):\n",
    "    \"\"\"Convert Quaternion to Euler Angles.  See rotation.py for notes\"\"\"\n",
    "    quat = np.asarray(quat, dtype=np.float64)\n",
    "    assert quat.shape[-1] == 4, \"Invalid shape quat {}\".format(quat)\n",
    "\n",
    "    w, x, y, z = quat[..., 0], quat[..., 1], quat[..., 2], quat[..., 3]\n",
    "    Nq = np.sum(quat * quat, axis=-1)\n",
    "    s = 2.0 / Nq\n",
    "    X, Y, Z = x * s, y * s, z * s\n",
    "    wX, wY, wZ = w * X, w * Y, w * Z\n",
    "    xX, xY, xZ = x * X, x * Y, x * Z\n",
    "    yY, yZ, zZ = y * Y, y * Z, z * Z\n",
    "\n",
    "    mat = np.empty(quat.shape[:-1] + (3, 3), dtype=np.float64)\n",
    "    mat[..., 0, 0] = 1.0 - (yY + zZ)\n",
    "    mat[..., 0, 1] = xY - wZ\n",
    "    mat[..., 0, 2] = xZ + wY\n",
    "    mat[..., 1, 0] = xY + wZ\n",
    "    mat[..., 1, 1] = 1.0 - (xX + zZ)\n",
    "    mat[..., 1, 2] = yZ - wX\n",
    "    mat[..., 2, 0] = xZ - wY\n",
    "    mat[..., 2, 1] = yZ + wX\n",
    "    mat[..., 2, 2] = 1.0 - (xX + yY)\n",
    "    return np.where((Nq > _FLOAT_EPS)[..., np.newaxis, np.newaxis], mat, np.eye(3))\n",
    "\n",
    "\n",
    "def quat_conjugate(q):\n",
    "    inv_q = -q\n",
    "    inv_q[..., 0] *= -1\n",
    "    return inv_q\n",
    "\n",
    "\n",
    "def quat_mul(q0, q1):\n",
    "    assert q0.shape == q1.shape\n",
    "    assert q0.shape[-1] == 4\n",
    "    assert q1.shape[-1] == 4\n",
    "\n",
    "    w0 = q0[..., 0]\n",
    "    x0 = q0[..., 1]\n",
    "    y0 = q0[..., 2]\n",
    "    z0 = q0[..., 3]\n",
    "\n",
    "    w1 = q1[..., 0]\n",
    "    x1 = q1[..., 1]\n",
    "    y1 = q1[..., 2]\n",
    "    z1 = q1[..., 3]\n",
    "\n",
    "    w = w0 * w1 - x0 * x1 - y0 * y1 - z0 * z1\n",
    "    x = w0 * x1 + x0 * w1 + y0 * z1 - z0 * y1\n",
    "    y = w0 * y1 + y0 * w1 + z0 * x1 - x0 * z1\n",
    "    z = w0 * z1 + z0 * w1 + x0 * y1 - y0 * x1\n",
    "    q = np.array([w, x, y, z])\n",
    "    if q.ndim == 2:\n",
    "        q = q.swapaxes(0, 1)\n",
    "    assert q.shape == q0.shape\n",
    "    return q\n",
    "\n",
    "\n",
    "def quat_rot_vec(q, v0):\n",
    "    q_v0 = np.array([0, v0[0], v0[1], v0[2]])\n",
    "    q_v = quat_mul(q, quat_mul(q_v0, quat_conjugate(q)))\n",
    "    v = q_v[1:]\n",
    "    return v\n",
    "\n",
    "\n",
    "def quat_identity():\n",
    "    return np.array([1, 0, 0, 0])\n",
    "\n",
    "\n",
    "def quat2axisangle(quat):\n",
    "    theta = 0\n",
    "    axis = np.array([0, 0, 1])\n",
    "    sin_theta = np.linalg.norm(quat[1:])\n",
    "\n",
    "    if sin_theta > 0.0001:\n",
    "        theta = 2 * np.arcsin(sin_theta)\n",
    "        theta *= 1 if quat[0] >= 0 else -1\n",
    "        axis = quat[1:] / sin_theta\n",
    "\n",
    "    return axis, theta\n",
    "\n",
    "\n",
    "def euler2point_euler(euler):\n",
    "    _euler = euler.copy()\n",
    "    if len(_euler.shape) < 2:\n",
    "        _euler = np.expand_dims(_euler, 0)\n",
    "    assert _euler.shape[1] == 3\n",
    "    _euler_sin = np.sin(_euler)\n",
    "    _euler_cos = np.cos(_euler)\n",
    "    return np.concatenate([_euler_sin, _euler_cos], axis=-1)\n",
    "\n",
    "\n",
    "def point_euler2euler(euler):\n",
    "    _euler = euler.copy()\n",
    "    if len(_euler.shape) < 2:\n",
    "        _euler = np.expand_dims(_euler, 0)\n",
    "    assert _euler.shape[1] == 6\n",
    "    angle = np.arctan(_euler[..., :3] / _euler[..., 3:])\n",
    "    angle[_euler[..., 3:] < 0] += np.pi\n",
    "    return angle\n",
    "\n",
    "\n",
    "def quat2point_quat(quat):\n",
    "    # Should be in qw, qx, qy, qz\n",
    "    _quat = quat.copy()\n",
    "    if len(_quat.shape) < 2:\n",
    "        _quat = np.expand_dims(_quat, 0)\n",
    "    assert _quat.shape[1] == 4\n",
    "    angle = np.arccos(_quat[:, [0]]) * 2\n",
    "    xyz = _quat[:, 1:]\n",
    "    xyz[np.squeeze(np.abs(np.sin(angle / 2))) >= 1e-5] = (xyz / np.sin(angle / 2))[\n",
    "        np.squeeze(np.abs(np.sin(angle / 2))) >= 1e-5\n",
    "    ]\n",
    "    return np.concatenate([np.sin(angle), np.cos(angle), xyz], axis=-1)\n",
    "\n",
    "\n",
    "def point_quat2quat(quat):\n",
    "    _quat = quat.copy()\n",
    "    if len(_quat.shape) < 2:\n",
    "        _quat = np.expand_dims(_quat, 0)\n",
    "    assert _quat.shape[1] == 5\n",
    "    angle = np.arctan(_quat[:, [0]] / _quat[:, [1]])\n",
    "    qw = np.cos(angle / 2)\n",
    "\n",
    "    qxyz = _quat[:, 2:]\n",
    "    qxyz[np.squeeze(np.abs(np.sin(angle / 2))) >= 1e-5] = (qxyz * np.sin(angle / 2))[\n",
    "        np.squeeze(np.abs(np.sin(angle / 2))) >= 1e-5\n",
    "    ]\n",
    "    return np.concatenate([qw, qxyz], axis=-1)\n",
    "\n",
    "\n",
    "def normalize_angles(angles):\n",
    "    \"\"\"Puts angles in [-pi, pi] range.\"\"\"\n",
    "    angles = angles.copy()\n",
    "    if angles.size > 0:\n",
    "        angles = (angles + np.pi) % (2 * np.pi) - np.pi\n",
    "        assert -np.pi - 1e-6 <= angles.min() and angles.max() <= np.pi + 1e-6\n",
    "    return angles\n",
    "\n",
    "\n",
    "def round_to_straight_angles(angles):\n",
    "    \"\"\"Returns closest angle modulo 90 degrees\"\"\"\n",
    "    angles = np.round(angles / (np.pi / 2)) * (np.pi / 2)\n",
    "    return normalize_angles(angles)\n",
    "\n",
    "\n",
    "def get_parallel_rotations():\n",
    "    mult90 = [0, np.pi / 2, -np.pi / 2, np.pi]\n",
    "    parallel_rotations = []\n",
    "    for euler in itertools.product(mult90, repeat=3):\n",
    "        canonical = mat2euler(euler2mat(euler))\n",
    "        canonical = np.round(canonical / (np.pi / 2))\n",
    "        if canonical[0] == -2:\n",
    "            canonical[0] = 2\n",
    "        if canonical[2] == -2:\n",
    "            canonical[2] = 2\n",
    "        canonical *= np.pi / 2\n",
    "        if all([(canonical != rot).any() for rot in parallel_rotations]):\n",
    "            parallel_rotations += [canonical]\n",
    "    assert len(parallel_rotations) == 24\n",
    "    return parallel_rotations"
   ]
  },
  {
   "cell_type": "code",
   "execution_count": null,
   "id": "66886158",
   "metadata": {},
   "outputs": [],
   "source": []
  }
 ],
 "metadata": {
  "kernelspec": {
   "display_name": "Python 3",
   "language": "python",
   "name": "python3"
  },
  "language_info": {
   "codemirror_mode": {
    "name": "ipython",
    "version": 3
   },
   "file_extension": ".py",
   "mimetype": "text/x-python",
   "name": "python",
   "nbconvert_exporter": "python",
   "pygments_lexer": "ipython3",
   "version": "3.6.9"
  }
 },
 "nbformat": 4,
 "nbformat_minor": 5
}
