{
 "cells": [
  {
   "cell_type": "code",
   "execution_count": 3,
   "id": "104a0a90",
   "metadata": {},
   "outputs": [],
   "source": [
    "%config IPCompleter.use_jedi = False"
   ]
  },
  {
   "cell_type": "code",
   "execution_count": 9,
   "id": "edf3fccf",
   "metadata": {},
   "outputs": [],
   "source": [
    "import numpy as np\n",
    "import cv2\n",
    "import cv2.aruco as aruco"
   ]
  },
  {
   "cell_type": "code",
   "execution_count": 5,
   "id": "b955d675",
   "metadata": {},
   "outputs": [
    {
     "data": {
      "text/plain": [
       "<module 'cv2.cv2' from '/home/mechagodzilla/kinova_venv/lib/python3.6/site-packages/cv2/cv2.cpython-36m-x86_64-linux-gnu.so'>"
      ]
     },
     "execution_count": 5,
     "metadata": {},
     "output_type": "execute_result"
    }
   ],
   "source": [
    "cv2"
   ]
  },
  {
   "cell_type": "code",
   "execution_count": 6,
   "id": "372a31d7",
   "metadata": {},
   "outputs": [],
   "source": [
    "img = cv2.imread('test_cubem_aruco.jpg')"
   ]
  },
  {
   "cell_type": "code",
   "execution_count": 7,
   "id": "8b1892b1",
   "metadata": {},
   "outputs": [],
   "source": [
    "mtx = np.load('/home/mechagodzilla/sim-to-real-kinova/camera_mtx.npy')  # camera matrix\n",
    "dist = np.load('/home/mechagodzilla/sim-to-real-kinova/dist_mtx.npy')"
   ]
  },
  {
   "cell_type": "code",
   "execution_count": 11,
   "id": "d196e07b",
   "metadata": {},
   "outputs": [],
   "source": [
    "aruco_dict = aruco.getPredefinedDictionary(aruco.DICT_ARUCO_ORIGINAL)\n",
    "parameters = aruco.DetectorParameters_create()"
   ]
  },
  {
   "cell_type": "code",
   "execution_count": null,
   "id": "77179e8d",
   "metadata": {},
   "outputs": [],
   "source": []
  },
  {
   "cell_type": "code",
   "execution_count": 14,
   "id": "0564d28b",
   "metadata": {},
   "outputs": [],
   "source": [
    "gray = cv2.cvtColor(img,cv2.COLOR_BGR2GRAY)\n",
    "\n",
    "# print(gray.shape)\n",
    "\n",
    "#Find markers in the image \n",
    "corners, ids, rejected = aruco.detectMarkers(image=gray, dictionary=aruco_dict, parameters=parameters, cameraMatrix=mtx, distCoeff=dist)\n"
   ]
  },
  {
   "cell_type": "code",
   "execution_count": 15,
   "id": "c6df8cdb",
   "metadata": {},
   "outputs": [
    {
     "data": {
      "text/plain": [
       "array([[608],\n",
       "       [189],\n",
       "       [411],\n",
       "       [331],\n",
       "       [190],\n",
       "       [201]], dtype=int32)"
      ]
     },
     "execution_count": 15,
     "metadata": {},
     "output_type": "execute_result"
    }
   ],
   "source": [
    "ids"
   ]
  },
  {
   "cell_type": "code",
   "execution_count": 16,
   "id": "8352b782",
   "metadata": {},
   "outputs": [],
   "source": [
    "obj_marker_id = 509\n",
    "\n",
    "# it could be any obj marker id.\n",
    "\n"
   ]
  },
  {
   "cell_type": "code",
   "execution_count": 17,
   "id": "b769f3ea",
   "metadata": {},
   "outputs": [],
   "source": [
    "obj_marker_id = 201"
   ]
  },
  {
   "cell_type": "code",
   "execution_count": 24,
   "id": "2092a690",
   "metadata": {},
   "outputs": [
    {
     "data": {
      "text/plain": [
       "True"
      ]
     },
     "execution_count": 24,
     "metadata": {},
     "output_type": "execute_result"
    }
   ],
   "source": [
    "\n",
    "201 in marker_to_obj.keys()"
   ]
  },
  {
   "cell_type": "code",
   "execution_count": 22,
   "id": "e2269bf2",
   "metadata": {},
   "outputs": [],
   "source": [
    "marker_to_obj = {\n",
    "    509: 'CylinderB',\n",
    "    201: 'CubeM'\n",
    "}\n",
    "\n",
    "obj_size_map = {\n",
    "    'CylinderB': [42, 42, 110],\n",
    "    'CubeB': [48, 48, 115],\n",
    "    'CubeM': [40, 40, 105]\n",
    "}\n"
   ]
  },
  {
   "cell_type": "code",
   "execution_count": null,
   "id": "63c31122",
   "metadata": {},
   "outputs": [],
   "source": []
  },
  {
   "cell_type": "code",
   "execution_count": 26,
   "id": "d685e756",
   "metadata": {},
   "outputs": [],
   "source": [
    "rgb_img = cv2.cvtColor(img, cv2.COLOR_BGR2RGB)"
   ]
  },
  {
   "cell_type": "code",
   "execution_count": 33,
   "id": "72c16ac4",
   "metadata": {},
   "outputs": [
    {
     "data": {
      "text/plain": [
       "(1920, 1080)"
      ]
     },
     "execution_count": 33,
     "metadata": {},
     "output_type": "execute_result"
    }
   ],
   "source": [
    "pil_img.size"
   ]
  },
  {
   "cell_type": "code",
   "execution_count": null,
   "id": "7d87d288",
   "metadata": {},
   "outputs": [],
   "source": [
    "os.path.join()"
   ]
  },
  {
   "cell_type": "code",
   "execution_count": 38,
   "id": "5d4c62f1",
   "metadata": {},
   "outputs": [],
   "source": [
    "action = np.zeros((6,)).round(decimals=2)\n",
    "state = np.zeros((32,)).round(decimals=3)\n"
   ]
  },
  {
   "cell_type": "code",
   "execution_count": 42,
   "id": "e2d53d21",
   "metadata": {},
   "outputs": [],
   "source": [
    "import os"
   ]
  },
  {
   "cell_type": "code",
   "execution_count": 43,
   "id": "abcbbd6c",
   "metadata": {},
   "outputs": [],
   "source": [
    "\n",
    "text_overlay = 'timestep: ' + str(1) + '\\n' + 'action: ' + str(action) + '\\n' + str(state) + '\\n' + str(state) + '\\n' + str(state) + '\\n' + str(state)\n",
    "\n",
    "font_filepath = os.path.join('fonts/arial.ttf')"
   ]
  },
  {
   "cell_type": "code",
   "execution_count": 45,
   "id": "a5844b98",
   "metadata": {},
   "outputs": [],
   "source": [
    "from PIL import Image, ImageDraw, ImageFont\n",
    "\n",
    "\n",
    "text_overlay = 'timestep: ' + str(1) + '\\n' + 'action: ' + str(action) + '\\n' + str(state) + '\\n' + str(state) + '\\n' + str(state) + '\\n' + str(state)\n",
    "\n",
    "font_filepath = os.path.join('fonts/arial.ttf')\n",
    "font = ImageFont.truetype(font_filepath, 26)\n",
    "\n",
    "pil_img = Image.fromarray(rgb_img, 'RGB')\n",
    "h = pil_img.size[1]\n",
    "draw = ImageDraw.Draw(pil_img)\n",
    "# draw.text((0, h-(h/4)), text_overlay, (255,255,255), font=font)\n",
    "draw.text((0, 0), text_overlay, (255,255,255), font=font)\n",
    "\n",
    "pil_img.show()"
   ]
  },
  {
   "cell_type": "code",
   "execution_count": 31,
   "id": "6b137e64",
   "metadata": {},
   "outputs": [],
   "source": [
    "pil_img.show()"
   ]
  },
  {
   "cell_type": "code",
   "execution_count": null,
   "id": "ea840d72",
   "metadata": {},
   "outputs": [],
   "source": []
  },
  {
   "cell_type": "code",
   "execution_count": 27,
   "id": "65069dc5",
   "metadata": {},
   "outputs": [
    {
     "ename": "NameError",
     "evalue": "name 'a' is not defined",
     "output_type": "error",
     "traceback": [
      "\u001b[0;31m---------------------------------------------------------------------------\u001b[0m",
      "\u001b[0;31mNameError\u001b[0m                                 Traceback (most recent call last)",
      "\u001b[0;32m<ipython-input-27-ad3fde7f3a5b>\u001b[0m in \u001b[0;36m<module>\u001b[0;34m\u001b[0m\n\u001b[1;32m      1\u001b[0m \u001b[0;31m# Just keep rgb values, so image is shape (w,h), make to be numpy array\u001b[0m\u001b[0;34m\u001b[0m\u001b[0;34m\u001b[0m\u001b[0;34m\u001b[0m\u001b[0m\n\u001b[0;32m----> 2\u001b[0;31m \u001b[0ma_rgb\u001b[0m \u001b[0;34m=\u001b[0m \u001b[0ma\u001b[0m\u001b[0;34m[\u001b[0m\u001b[0;36m0\u001b[0m\u001b[0;34m]\u001b[0m\u001b[0;34m\u001b[0m\u001b[0;34m\u001b[0m\u001b[0m\n\u001b[0m\u001b[1;32m      3\u001b[0m \u001b[0ma_rgb\u001b[0m \u001b[0;34m=\u001b[0m \u001b[0mnp\u001b[0m\u001b[0;34m.\u001b[0m\u001b[0masarray\u001b[0m\u001b[0;34m(\u001b[0m\u001b[0ma_rgb\u001b[0m\u001b[0;34m,\u001b[0m \u001b[0mdtype\u001b[0m\u001b[0;34m=\u001b[0m\u001b[0mnp\u001b[0m\u001b[0;34m.\u001b[0m\u001b[0muint8\u001b[0m\u001b[0;34m)\u001b[0m\u001b[0;34m\u001b[0m\u001b[0;34m\u001b[0m\u001b[0m\n\u001b[1;32m      4\u001b[0m \u001b[0mimg\u001b[0m \u001b[0;34m=\u001b[0m \u001b[0mImage\u001b[0m\u001b[0;34m.\u001b[0m\u001b[0mfromarray\u001b[0m\u001b[0;34m(\u001b[0m\u001b[0ma_rgb\u001b[0m\u001b[0;34m,\u001b[0m \u001b[0;34m'RGB'\u001b[0m\u001b[0;34m)\u001b[0m            \u001b[0;31m# Overlay text string\u001b[0m\u001b[0;34m\u001b[0m\u001b[0;34m\u001b[0m\u001b[0m\n\u001b[1;32m      5\u001b[0m \u001b[0;32mif\u001b[0m \u001b[0mtext_overlay\u001b[0m \u001b[0;34m!=\u001b[0m \u001b[0;32mNone\u001b[0m\u001b[0;34m:\u001b[0m\u001b[0;34m\u001b[0m\u001b[0;34m\u001b[0m\u001b[0m\n",
      "\u001b[0;31mNameError\u001b[0m: name 'a' is not defined"
     ]
    }
   ],
   "source": [
    "# Just keep rgb values, so image is shape (w,h), make to be numpy array\n",
    "a_rgb = a[0]\n",
    "a_rgb = np.asarray(a_rgb, dtype=np.uint8)\n",
    "img = Image.fromarray(a_rgb, 'RGB')            # Overlay text string\n",
    "if text_overlay != None:\n",
    "    draw = ImageDraw.Draw(img)\n",
    "    font = ImageFont.truetype(r'/kinova_description/fonts/arial.ttf', 26)\n",
    "    draw.text((0, h-(h/4)), text_overlay, (255,255,255), font=font)            # Save image\n",
    "img.save(episode_dir + 'timestep_'+str(timestep_num)+'.png')"
   ]
  },
  {
   "cell_type": "code",
   "execution_count": null,
   "id": "28d0ae5f",
   "metadata": {},
   "outputs": [],
   "source": []
  }
 ],
 "metadata": {
  "kernelspec": {
   "display_name": "Python 3",
   "language": "python",
   "name": "python3"
  },
  "language_info": {
   "codemirror_mode": {
    "name": "ipython",
    "version": 3
   },
   "file_extension": ".py",
   "mimetype": "text/x-python",
   "name": "python",
   "nbconvert_exporter": "python",
   "pygments_lexer": "ipython3",
   "version": "3.6.9"
  }
 },
 "nbformat": 4,
 "nbformat_minor": 5
}
