{
 "cells": [
  {
   "cell_type": "code",
   "execution_count": 1,
   "id": "646932ac",
   "metadata": {},
   "outputs": [],
   "source": [
    "# Disable jedi autocompleter\n",
    "%config Completer.use_jedi = False\n"
   ]
  },
  {
   "cell_type": "code",
   "execution_count": 2,
   "id": "4dabae6d",
   "metadata": {},
   "outputs": [],
   "source": [
    "import numpy as np\n",
    "import torch"
   ]
  },
  {
   "cell_type": "code",
   "execution_count": 3,
   "id": "cdcbe6bb",
   "metadata": {},
   "outputs": [],
   "source": [
    "from DDPGfD import DDPGfD\n",
    "# from main_DDPGfD import state_dim_setup"
   ]
  },
  {
   "cell_type": "markdown",
   "id": "979f42c7",
   "metadata": {},
   "source": [
    "# todo: get rid of jedi lol"
   ]
  },
  {
   "cell_type": "code",
   "execution_count": 4,
   "id": "2d4d4623",
   "metadata": {},
   "outputs": [
    {
     "data": {
      "text/plain": [
       "True"
      ]
     },
     "execution_count": 4,
     "metadata": {},
     "output_type": "execute_result"
    }
   ],
   "source": [
    "torch.cuda.is_available()"
   ]
  },
  {
   "cell_type": "code",
   "execution_count": 5,
   "id": "ad5d2228",
   "metadata": {},
   "outputs": [],
   "source": [
    "def state_dim_setup(state_dim_option):\n",
    "    \"\"\"\n",
    "    Returns an array of indices that can be used on a full observation to only grab relevant state dimensions\n",
    "    Input: The argument of which state_range option to use.\n",
    "    Output: Numpy array of indices\n",
    "    \"\"\"\n",
    "\n",
    "    # Setup state dimensional parts here\n",
    "    '''\n",
    "    Local obs, all in local coordinates (from the center of the palm)\n",
    "    (18,) Finger Pos                                        0-17: (0: x, 1: y, 2: z) \"f1_prox\", (3-5) \"f2_prox\", (6-8) \"f3_prox\", (9-11) \"f1_dist\", (12-14) \"f2_dist\", (15-17) \"f3_dist\"\n",
    "    (3,) Wrist Pos                                          18-20 (18: x, 19: y, 20: z)\n",
    "    (3,) Obj Pos                                            21-23 (21: x, 22: y, 23: z)\n",
    "    (9,) Joint States                                       24-32\n",
    "    (3,) Obj Size                                           33-35\n",
    "    (12,) Finger Object Distance                            36-47\n",
    "    \n",
    "    36) \"f1_prox\"\n",
    "    37) \"f1_prox_1\"\n",
    "    38) \"f2_prox\"\n",
    "    39) \"f2_prox_1\"\n",
    "    40) \"f3_prox\"\n",
    "    41) \"f3_prox_1\"\n",
    "    42) \"f1_dist\"\n",
    "    43) \"f1_dist_1\"\n",
    "    44) \"f2_dist\"\n",
    "    45) \"f2_dist_1\"\n",
    "    46) \"f3_dist\"\n",
    "    47) \"f3_dist_1\"\n",
    "    \n",
    "    Note: NONE vs \"_1\" meaning: On each finger there are two red dots. The \"_1\" is the ones closer to the center\n",
    "    \n",
    "    \n",
    "    (2,) X and Z angle                                      48-49\n",
    "    (17,) Rangefinder data                                  50-66\n",
    "    (3,) Gravity vector in local coordinates                67-69\n",
    "    (3,) Object location based on rangefinder data          70-72\n",
    "    (1,) Ratio of the area of the side of the shape to the open portion of the side of the hand    73\n",
    "    (1,) Ratio of the area of the top of the shape to the open portion of the top of the hand    74\n",
    "    (6, ) Finger dot product  75) \"f1_prox\", 76) \"f2_prox\", 77) \"f3_prox\", 78) \"f1_dist\", 79) \"f2_dist\", 80) \"f3_dist\"  75-80\n",
    "    (1, ) Dot product (wrist) 81\n",
    "    '''\n",
    "\n",
    "    finger_pos_idx = np.arange(0, 18)\n",
    "    f1_prox_pos_idx = np.array([3, 4, 5])\n",
    "    f2_prox_pos_idx = np.array([6, 7, 8])\n",
    "    f1_dist_pos_idx = np.array([12, 13, 14])\n",
    "    f2_dist_pos_idx = np.array([15, 16, 17])\n",
    "    last_6_joint_states_idx = np.arange(27, 33)\n",
    "    \n",
    "    wrist_pos_idx = np.arange(18, 21)\n",
    "    obj_pos_idx = np.arange(21, 24)\n",
    "    joint_states_idx = np.arange(24, 33)\n",
    "    obj_size_idx = np.arange(33, 36)\n",
    "    finger_obj_dist_idx = np.arange(36, 48)\n",
    "    \n",
    "    finger_obj_dist_f1_prox_1 = np.array([37])\n",
    "    finger_obj_dist_f2_prox_1 = np.array([39])\n",
    "    finger_obj_dist_f1_dist_1 = np.array([43])\n",
    "    finger_obj_dist_f2_dist_1 = np.array([45])\n",
    "    \n",
    "    \n",
    "    x_z_angle_idx = np.arange(48, 50)\n",
    "    rangefinder_data_idx = np.arange(50, 67)\n",
    "    gravity_vector_in_local_coords = np.arange(67, 70)\n",
    "    object_location_rangefinder = np.arange(70, 73)\n",
    "    ratio_sideshape_sidehand = np.array([73])\n",
    "    ratio_topshape_tophand = np.array([74])\n",
    "    f1_prox_idx = np.array([75])\n",
    "    f2_prox_idx = np.array([76])\n",
    "    f3_prox_idx = np.array([77])\n",
    "    f1_dist_idx = np.array([78])\n",
    "    f2_dist_idx = np.array([79])\n",
    "    f3_dist_idx = np.array([80])\n",
    "    dot_prod_wrist = np.array([81])\n",
    "\n",
    "    # create mappings for state dimension mapping\n",
    "    state_dim_idx_arr_dict = {\n",
    "        'all': np.arange(82),\n",
    "        'nigel_rangefinder': np.concatenate((obj_pos_idx, rangefinder_data_idx, obj_size_idx), axis=0),\n",
    "        'nigel_norangefinder': np.concatenate((obj_pos_idx, finger_obj_dist_idx, obj_size_idx), axis=0),\n",
    "        'all_real': np.concatenate((f1_prox_pos_idx, f2_prox_pos_idx, f1_dist_pos_idx, f2_dist_pos_idx, obj_pos_idx, last_6_joint_states_idx, obj_size_idx, finger_obj_dist_idx)),\n",
    "        #  wrist 3 + finger pos 12 + obj size 3 + last joint states 6 + obj pos 3 + finger obj dist 4\n",
    "        'adam_sim2real': np.concatenate((f1_dist_pos_idx, f1_prox_pos_idx, f2_dist_pos_idx, f2_prox_pos_idx, wrist_pos_idx, obj_pos_idx, last_6_joint_states_idx, obj_size_idx, finger_obj_dist_f1_dist_1, finger_obj_dist_f1_prox_1, finger_obj_dist_f2_dist_1, finger_obj_dist_f2_prox_1))  # this one is based on sim2real\n",
    "    }\n",
    "    \n",
    "    \n",
    "    assert state_dim_option in state_dim_idx_arr_dict.keys()\n",
    "    \n",
    "#     # x_z useless\n",
    "#     1. dont use finger 3, both in control and for position\n",
    "#     2. for joint states - you only want the last 6\n",
    "\n",
    "    res_state_idx_arr = state_dim_idx_arr_dict[state_dim_option]\n",
    "\n",
    "    return res_state_idx_arr"
   ]
  },
  {
   "cell_type": "code",
   "execution_count": 6,
   "id": "7616bef5",
   "metadata": {},
   "outputs": [],
   "source": [
    "state_idx_arr = state_dim_setup('adam_sim2real')\n",
    "modified_state_dim = len(state_idx_arr)\n",
    "\n",
    "# Set dimensions for state and action spaces - policy initialization\n",
    "state_dim = 82  # State dimension dependent on the length of the state space\n",
    "action_dim = 3 #env.action_space.shape[0]\n",
    "max_action = 3.0\n",
    "# max_action_trained = env.action_space.high  # a vector of max actions\n",
    "# n = 5   # n step look ahead for the policy\n",
    "# max_q_value = 50  # Should match the maximum reward value\n",
    "# velocities = {\"constant_velocity\": 2, \"min_velocity\": 0, \"max_velocity\": 3, \"finger_lift_velocity\": 1, \"wrist_lift_velocity\": 1}\n"
   ]
  },
  {
   "cell_type": "code",
   "execution_count": 7,
   "id": "66429823",
   "metadata": {},
   "outputs": [],
   "source": [
    "kwargs = {\n",
    "        \"state_dim\": modified_state_dim,\n",
    "        \"action_dim\": action_dim,\n",
    "        \"max_action\": max_action,\n",
    "#         \"n\": n,\n",
    "#         \"discount\": args.discount,\n",
    "#         \"tau\": args.tau,\n",
    "#         \"batch_size\": args.batch_size,\n",
    "#         \"expert_sampling_proportion\": args.expert_prob\n",
    "    }"
   ]
  },
  {
   "cell_type": "code",
   "execution_count": 8,
   "id": "c4263bed",
   "metadata": {},
   "outputs": [
    {
     "name": "stdout",
     "output_type": "stream",
     "text": [
      "================================ INITTING DDPGfD with state dim of:  31 ===============================\n"
     ]
    }
   ],
   "source": [
    "policy = DDPGfD(**kwargs)"
   ]
  },
  {
   "cell_type": "code",
   "execution_count": 9,
   "id": "c098d738",
   "metadata": {},
   "outputs": [],
   "source": [
    "trained_policy_path = '/home/mechagodzilla/sim-to-real-kinova/src/sim-to-real-kinova-master/openai_gym_kinova/src/policies/state_dim_full_train_v01/_07_22_21_0544/policy/train_DDPGfD_kinovaGrip'\n",
    "trained_policy_path = 'policies/state_dim_full_train_v01/_07_22_21_0544/policy/train_DDPGfD_kinovaGrip'\n",
    "policy.load(trained_policy_path)"
   ]
  },
  {
   "cell_type": "code",
   "execution_count": 10,
   "id": "a4e7de1f",
   "metadata": {},
   "outputs": [
    {
     "name": "stdout",
     "output_type": "stream",
     "text": [
      "fake state shape: (31,)\n"
     ]
    },
    {
     "data": {
      "text/plain": [
       "array([0.6577568 , 0.69768643, 0.32741684], dtype=float32)"
      ]
     },
     "execution_count": 10,
     "metadata": {},
     "output_type": "execute_result"
    }
   ],
   "source": [
    "fake_state = np.zeros((31)) + np.random.normal(size=(31))\n",
    "print('fake state shape:', fake_state.shape)\n",
    "policy.select_action(fake_state)"
   ]
  },
  {
   "cell_type": "code",
   "execution_count": 18,
   "id": "d588a45f",
   "metadata": {},
   "outputs": [],
   "source": [
    "def state_dim_setup(state_dim_option):\n",
    "    \"\"\"\n",
    "    Returns an array of indices that can be used on a full observation to only grab relevant state dimensions\n",
    "    Input: The argument of which state_range option to use.\n",
    "    Output: Numpy array of indices\n",
    "    \"\"\"\n",
    "\n",
    "    # Setup state dimensional parts here\n",
    "    '''\n",
    "    Local obs, all in local coordinates (from the center of the palm)\n",
    "    (18,) Finger Pos                                        0-17: (0: x, 1: y, 2: z) \"f1_prox\", (3-5) \"f2_prox\", (6-8) \"f3_prox\", (9-11) \"f1_dist\", (12-14) \"f2_dist\", (15-17) \"f3_dist\"\n",
    "    (3,) Wrist Pos                                          18-20 (18: x, 19: y, 20: z)\n",
    "    (3,) Obj Pos                                            21-23 (21: x, 22: y, 23: z)\n",
    "    (9,) Joint States                                       24-32\n",
    "    (3,) Obj Size                                           33-35\n",
    "    (12,) Finger Object Distance                            36-47\n",
    "    \n",
    "    36) \"f1_prox\"\n",
    "    37) \"f1_prox_1\"\n",
    "    38) \"f2_prox\"\n",
    "    39) \"f2_prox_1\"\n",
    "    40) \"f3_prox\"\n",
    "    41) \"f3_prox_1\"\n",
    "    42) \"f1_dist\"\n",
    "    43) \"f1_dist_1\"\n",
    "    44) \"f2_dist\"\n",
    "    45) \"f2_dist_1\"\n",
    "    46) \"f3_dist\"\n",
    "    47) \"f3_dist_1\"\n",
    "    \n",
    "    Note: NONE vs \"_1\" meaning: On each finger there are two red dots. The \"_1\" is the ones closer to the center\n",
    "    \n",
    "    \n",
    "    (2,) X and Z angle                                      48-49\n",
    "    (17,) Rangefinder data                                  50-66\n",
    "    (3,) Gravity vector in local coordinates                67-69\n",
    "    (3,) Object location based on rangefinder data          70-72\n",
    "    (1,) Ratio of the area of the side of the shape to the open portion of the side of the hand    73\n",
    "    (1,) Ratio of the area of the top of the shape to the open portion of the top of the hand    74\n",
    "    (6, ) Finger dot product  75) \"f1_prox\", 76) \"f2_prox\", 77) \"f3_prox\", 78) \"f1_dist\", 79) \"f2_dist\", 80) \"f3_dist\"  75-80\n",
    "    (1, ) Dot product (wrist) 81\n",
    "    '''\n",
    "\n",
    "    finger_pos_idx = np.arange(0, 18)\n",
    "    f1_prox_pos_idx = np.array([3, 4, 5])\n",
    "    f2_prox_pos_idx = np.array([6, 7, 8])\n",
    "    f1_dist_pos_idx = np.array([12, 13, 14])\n",
    "    f2_dist_pos_idx = np.array([15, 16, 17])\n",
    "    last_6_joint_states_idx = np.arange(27, 33)\n",
    "    \n",
    "    wrist_pos_idx = np.arange(18, 21)\n",
    "    obj_pos_idx = np.arange(21, 24)\n",
    "    joint_states_idx = np.arange(24, 33)\n",
    "    obj_size_idx = np.arange(33, 36)\n",
    "    finger_obj_dist_idx = np.arange(36, 48)\n",
    "    \n",
    "    finger_obj_dist_f1_prox_1 = np.array([37])\n",
    "    finger_obj_dist_f2_prox_1 = np.array([39])\n",
    "    finger_obj_dist_f1_dist_1 = np.array([43])\n",
    "    finger_obj_dist_f2_dist_1 = np.array([45])\n",
    "    \n",
    "    \n",
    "    x_z_angle_idx = np.arange(48, 50)\n",
    "    rangefinder_data_idx = np.arange(50, 67)\n",
    "    gravity_vector_in_local_coords = np.arange(67, 70)\n",
    "    object_location_rangefinder = np.arange(70, 73)\n",
    "    ratio_sideshape_sidehand = np.array([73])\n",
    "    ratio_topshape_tophand = np.array([74])\n",
    "    f1_prox_idx = np.array([75])\n",
    "    f2_prox_idx = np.array([76])\n",
    "    f3_prox_idx = np.array([77])\n",
    "    f1_dist_idx = np.array([78])\n",
    "    f2_dist_idx = np.array([79])\n",
    "    f3_dist_idx = np.array([80])\n",
    "    dot_prod_wrist = np.array([81])\n",
    "\n",
    "    # create mappings for state dimension mapping\n",
    "    state_dim_idx_arr_dict = {\n",
    "        'all': np.arange(82),\n",
    "        'nigel_rangefinder': np.concatenate((obj_pos_idx, rangefinder_data_idx, obj_size_idx), axis=0),\n",
    "        'nigel_norangefinder': np.concatenate((obj_pos_idx, finger_obj_dist_idx, obj_size_idx), axis=0),\n",
    "        'all_real': np.concatenate((f1_prox_pos_idx, f2_prox_pos_idx, f1_dist_pos_idx, f2_dist_pos_idx, obj_pos_idx, last_6_joint_states_idx, obj_size_idx, finger_obj_dist_idx)),\n",
    "        #  wrist 3 + finger pos 12 + obj size 3 + last joint states 6 + obj pos 3 + finger obj dist 4\n",
    "        'adam_sim2real': np.concatenate((f1_dist_pos_idx, f1_prox_pos_idx, f2_dist_pos_idx, f2_prox_pos_idx, wrist_pos_idx, obj_pos_idx, last_6_joint_states_idx, obj_size_idx, finger_obj_dist_f1_dist_1, finger_obj_dist_f1_prox_1, finger_obj_dist_f2_dist_1, finger_obj_dist_f2_prox_1))  # this one is based on sim2real\n",
    "    }\n",
    "    \n",
    "    assert state_dim_option in state_dim_idx_arr_dict.keys()\n",
    "\n",
    "    res_state_idx_arr = state_dim_idx_arr_dict[state_dim_option]\n",
    "\n",
    "    return res_state_idx_arr\n",
    "    \n",
    "    \n",
    "def lerp(action_arr, old_min=0, old_max=3, new_min=0, new_max=6800):\n",
    "    # first: scale to proper min max\n",
    "    np_arr = np.array(action_arr)\n",
    "    scale_factor = (new_max - new_min) / (old_max - old_min)\n",
    "    scaled_arr = (np_arr - old_min) * scale_factor + new_min\n",
    "    return scaled_arr\n",
    "\n",
    "# assume state_dim_setup has been imported, probably from a utilities file.\n",
    "\n",
    "class Agent:\n",
    "    \"\"\"\n",
    "    base action class\n",
    "    \"\"\"\n",
    "\n",
    "    def __init__(self):\n",
    "        return\n",
    "\n",
    "    def act(self, obs):\n",
    "        return\n",
    "\n",
    "class RLAgent(Agent):\n",
    "    \"\"\"\n",
    "    action class based on trained RL agent\n",
    "    \"\"\"\n",
    "\n",
    "    def __init__(self, trained_policy_path):\n",
    "        super(Agent, self).__init__()\n",
    "        \n",
    "        state_idx_arr = state_dim_setup('adam_sim2real')\n",
    "        modified_state_dim = len(state_idx_arr)\n",
    "\n",
    "        # Set dimensions for state and action spaces - policy initialization\n",
    "        state_dim = 82  # State dimension dependent on the length of the state space\n",
    "        action_dim = 3  # env.action_space.shape[0]\n",
    "        self.max_action = 3.0  # this is hardcoded from our simulation environment\n",
    "        \n",
    "        self.max_action_real_world = 6800  # this is hardcoded from real life\n",
    "        \n",
    "        kwargs = {\n",
    "        \"state_dim\": modified_state_dim,\n",
    "        \"action_dim\": action_dim,\n",
    "        \"max_action\": max_action\n",
    "        }\n",
    "        \n",
    "        self.policy = DDPGfD(**kwargs)\n",
    "        \n",
    "        self.policy.load(trained_policy_path)\n",
    "\n",
    "    def act(self, obs):\n",
    "        \"\"\"\n",
    "        lmao pick some random shit\n",
    "        \"\"\"\n",
    "        print('observation shape:', obs.shape)\n",
    "        rl_action = self.policy.select_action(obs)\n",
    "        scaled_action = lerp(rl_action, old_min=-self.max_action, old_max=self.max_action,\n",
    "                             new_min=-self.max_action_real_world,\n",
    "                             new_max=self.max_action_real_world)\n",
    "        return scaled_action"
   ]
  },
  {
   "cell_type": "code",
   "execution_count": 12,
   "id": "7f1d20f8",
   "metadata": {},
   "outputs": [
    {
     "name": "stdout",
     "output_type": "stream",
     "text": [
      "================================ INITTING DDPGfD with state dim of:  31 ===============================\n"
     ]
    }
   ],
   "source": [
    "agent = RLAgent(trained_policy_path=trained_policy_path)"
   ]
  },
  {
   "cell_type": "code",
   "execution_count": 14,
   "id": "d80d4acd",
   "metadata": {},
   "outputs": [
    {
     "name": "stdout",
     "output_type": "stream",
     "text": [
      "observation shape: (31,)\n"
     ]
    },
    {
     "data": {
      "text/plain": [
       "array([1490.916 , 1581.4229,  742.145 ], dtype=float32)"
      ]
     },
     "execution_count": 14,
     "metadata": {},
     "output_type": "execute_result"
    }
   ],
   "source": [
    "agent.act(fake_state)"
   ]
  },
  {
   "cell_type": "code",
   "execution_count": null,
   "id": "fcddc99c",
   "metadata": {},
   "outputs": [],
   "source": []
  },
  {
   "cell_type": "code",
   "execution_count": null,
   "id": "026e3cee",
   "metadata": {},
   "outputs": [],
   "source": []
  },
  {
   "cell_type": "code",
   "execution_count": null,
   "id": "ece708b4",
   "metadata": {},
   "outputs": [],
   "source": []
  },
  {
   "cell_type": "code",
   "execution_count": 20,
   "id": "d7f967da",
   "metadata": {},
   "outputs": [],
   "source": [
    "import os"
   ]
  },
  {
   "cell_type": "code",
   "execution_count": 50,
   "id": "eca74b07",
   "metadata": {},
   "outputs": [
    {
     "data": {
      "text/plain": [
       "{'experiment_name': 'constant_speed_test',\n",
       " 'params': {'controller': {'type': 'constant',\n",
       "   'speed': 6800,\n",
       "   'options': [0, 1700, 3400],\n",
       "   'distribution': 'uniform',\n",
       "   'policy_filepath': 'policies/state_dim_full_train_v01/_07_22_21_0544/policy/train_DDPGfD_kinovaGrip'},\n",
       "  'logger': {'use_logger': True,\n",
       "   'use_video': True,\n",
       "   'log_dir': 'constant_agent_logs'},\n",
       "  'noise': {'noise_range': 'fixed',\n",
       "   'noise_distribution': 'uniform',\n",
       "   'x_noise': [0.03],\n",
       "   'y_noise': [-0.02],\n",
       "   'z_noise': [0.0],\n",
       "   'roll_noise': [0.0],\n",
       "   'pitch_noise': [0.0],\n",
       "   'yaw_noise': [-0.261799]},\n",
       "  'max_timesteps': 100}}"
      ]
     },
     "execution_count": 50,
     "metadata": {},
     "output_type": "execute_result"
    }
   ],
   "source": [
    "import yaml\n",
    "\n",
    "config_path = 'experiment_configs/'\n",
    "filename = 'constant_speed_test.yaml'\n",
    "config_filepath = os.path.join(config_path, filename)\n",
    "\n",
    "stream = open(config_filepath, 'r')\n",
    "\n",
    "config_dict = yaml.load(stream, Loader=yaml.FullLoader)\n",
    "config_dict"
   ]
  },
  {
   "cell_type": "code",
   "execution_count": 47,
   "id": "6acbd80e",
   "metadata": {},
   "outputs": [],
   "source": [
    "experiment_name = config_dict['experiment_name']\n",
    "experiment_params = config_dict['params']\n",
    "\n",
    "controller_params = experiment_params['controller']\n",
    "logger_params = experiment_params['logger']\n",
    "noise_params = experiment_params['noise']\n",
    "max_timesteps = experiment_params['max_timesteps']"
   ]
  },
  {
   "cell_type": "code",
   "execution_count": 48,
   "id": "44b1a971",
   "metadata": {},
   "outputs": [
    {
     "ename": "NameError",
     "evalue": "name 'ConstantAgent' is not defined",
     "output_type": "error",
     "traceback": [
      "\u001b[0;31m---------------------------------------------------------------------------\u001b[0m",
      "\u001b[0;31mNameError\u001b[0m                                 Traceback (most recent call last)",
      "\u001b[0;32m<ipython-input-48-c9c74e4e9311>\u001b[0m in \u001b[0;36m<module>\u001b[0;34m\u001b[0m\n\u001b[1;32m      1\u001b[0m \u001b[0mcontroller_type\u001b[0m \u001b[0;34m=\u001b[0m \u001b[0mcontroller_params\u001b[0m\u001b[0;34m[\u001b[0m\u001b[0;34m'type'\u001b[0m\u001b[0;34m]\u001b[0m\u001b[0;34m\u001b[0m\u001b[0;34m\u001b[0m\u001b[0m\n\u001b[1;32m      2\u001b[0m \u001b[0;32mif\u001b[0m \u001b[0mcontroller_type\u001b[0m \u001b[0;34m==\u001b[0m \u001b[0;34m'constant'\u001b[0m\u001b[0;34m:\u001b[0m\u001b[0;34m\u001b[0m\u001b[0;34m\u001b[0m\u001b[0m\n\u001b[0;32m----> 3\u001b[0;31m     \u001b[0magent\u001b[0m \u001b[0;34m=\u001b[0m \u001b[0mConstantAgent\u001b[0m\u001b[0;34m(\u001b[0m\u001b[0mspeed\u001b[0m\u001b[0;34m=\u001b[0m\u001b[0mcontroller_params\u001b[0m\u001b[0;34m[\u001b[0m\u001b[0;34m'speed'\u001b[0m\u001b[0;34m]\u001b[0m\u001b[0;34m)\u001b[0m\u001b[0;34m\u001b[0m\u001b[0;34m\u001b[0m\u001b[0m\n\u001b[0m\u001b[1;32m      4\u001b[0m \u001b[0;32melif\u001b[0m \u001b[0mcontroller_type\u001b[0m \u001b[0;34m==\u001b[0m \u001b[0;34m'discrete_random'\u001b[0m\u001b[0;34m:\u001b[0m\u001b[0;34m\u001b[0m\u001b[0;34m\u001b[0m\u001b[0m\n\u001b[1;32m      5\u001b[0m     \u001b[0magent\u001b[0m \u001b[0;34m=\u001b[0m \u001b[0mRandomAgent\u001b[0m\u001b[0;34m(\u001b[0m\u001b[0moptions\u001b[0m\u001b[0;34m=\u001b[0m\u001b[0mcontroller_params\u001b[0m\u001b[0;34m)\u001b[0m\u001b[0;34m\u001b[0m\u001b[0;34m\u001b[0m\u001b[0m\n",
      "\u001b[0;31mNameError\u001b[0m: name 'ConstantAgent' is not defined"
     ]
    }
   ],
   "source": [
    "controller_type = controller_params['type']\n",
    "if controller_type == 'constant':\n",
    "    agent = ConstantAgent(speed=controller_params['speed'])\n",
    "elif controller_type == 'discrete_random':\n",
    "    agent = RandomAgent(options=controller_params)\n",
    "elif controller_type == 'rl':\n",
    "    agent = RLAgent(trained_policy_path=controller_params['policy_filepath'])\n",
    "\n",
    "logger = None\n",
    "if logger_params['use_logger']:\n",
    "    log_dir = os.path.join(rel_dirname, logger_params['log_dir'])\n",
    "    logger = Logger(log_dir=log_dir, use_video=logger_params['use_video'])\n",
    "    \n",
    "noiser = Noiser(noise_params['x_noise'],noise_params['x_noise'],noise_params['x_noise'],noise_params['x_noise'],noise_params['x_noise'],noise_params['x_noise'],noise_range=noise_params['noise_range'],noise_distribution=noise_params['noise_distribution'])\n"
   ]
  },
  {
   "cell_type": "code",
   "execution_count": 49,
   "id": "6e435fc8",
   "metadata": {
    "scrolled": true
   },
   "outputs": [
    {
     "ename": "NameError",
     "evalue": "name 'List' is not defined",
     "output_type": "error",
     "traceback": [
      "\u001b[0;31m---------------------------------------------------------------------------\u001b[0m",
      "\u001b[0;31mNameError\u001b[0m                                 Traceback (most recent call last)",
      "\u001b[0;32m<ipython-input-49-723d5be13999>\u001b[0m in \u001b[0;36m<module>\u001b[0;34m\u001b[0m\n\u001b[0;32m----> 1\u001b[0;31m \u001b[0;32mclass\u001b[0m \u001b[0mNoiser\u001b[0m\u001b[0;34m:\u001b[0m\u001b[0;34m\u001b[0m\u001b[0;34m\u001b[0m\u001b[0m\n\u001b[0m\u001b[1;32m      2\u001b[0m     \"\"\"\n\u001b[1;32m      3\u001b[0m     \u001b[0mAdds\u001b[0m \u001b[0msome\u001b[0m \u001b[0mfucking\u001b[0m \u001b[0mnoise\u001b[0m\u001b[0;34m\u001b[0m\u001b[0;34m\u001b[0m\u001b[0m\n\u001b[1;32m      4\u001b[0m     \"\"\"\n\u001b[1;32m      5\u001b[0m     \u001b[0;32mdef\u001b[0m \u001b[0m__init__\u001b[0m\u001b[0;34m(\u001b[0m\u001b[0mself\u001b[0m\u001b[0;34m,\u001b[0m \u001b[0mx_noise\u001b[0m\u001b[0;34m:\u001b[0m \u001b[0mList\u001b[0m\u001b[0;34m,\u001b[0m \u001b[0my_noise\u001b[0m\u001b[0;34m:\u001b[0m \u001b[0mList\u001b[0m\u001b[0;34m,\u001b[0m \u001b[0mz_noise\u001b[0m\u001b[0;34m:\u001b[0m \u001b[0mList\u001b[0m\u001b[0;34m,\u001b[0m \u001b[0mroll_noise\u001b[0m\u001b[0;34m:\u001b[0m \u001b[0mList\u001b[0m\u001b[0;34m,\u001b[0m \u001b[0mpitch_noise\u001b[0m\u001b[0;34m:\u001b[0m \u001b[0mList\u001b[0m\u001b[0;34m,\u001b[0m \u001b[0myaw_noise\u001b[0m\u001b[0;34m:\u001b[0m \u001b[0mList\u001b[0m\u001b[0;34m,\u001b[0m \u001b[0mnoise_range\u001b[0m\u001b[0;34m=\u001b[0m\u001b[0;34m'fixed'\u001b[0m\u001b[0;34m,\u001b[0m \u001b[0mnoise_distribution\u001b[0m\u001b[0;34m=\u001b[0m\u001b[0;34m'uniform'\u001b[0m\u001b[0;34m)\u001b[0m\u001b[0;34m:\u001b[0m\u001b[0;34m\u001b[0m\u001b[0;34m\u001b[0m\u001b[0m\n",
      "\u001b[0;32m<ipython-input-49-723d5be13999>\u001b[0m in \u001b[0;36mNoiser\u001b[0;34m()\u001b[0m\n\u001b[1;32m      3\u001b[0m     \u001b[0mAdds\u001b[0m \u001b[0msome\u001b[0m \u001b[0mfucking\u001b[0m \u001b[0mnoise\u001b[0m\u001b[0;34m\u001b[0m\u001b[0;34m\u001b[0m\u001b[0m\n\u001b[1;32m      4\u001b[0m     \"\"\"\n\u001b[0;32m----> 5\u001b[0;31m     \u001b[0;32mdef\u001b[0m \u001b[0m__init__\u001b[0m\u001b[0;34m(\u001b[0m\u001b[0mself\u001b[0m\u001b[0;34m,\u001b[0m \u001b[0mx_noise\u001b[0m\u001b[0;34m:\u001b[0m \u001b[0mList\u001b[0m\u001b[0;34m,\u001b[0m \u001b[0my_noise\u001b[0m\u001b[0;34m:\u001b[0m \u001b[0mList\u001b[0m\u001b[0;34m,\u001b[0m \u001b[0mz_noise\u001b[0m\u001b[0;34m:\u001b[0m \u001b[0mList\u001b[0m\u001b[0;34m,\u001b[0m \u001b[0mroll_noise\u001b[0m\u001b[0;34m:\u001b[0m \u001b[0mList\u001b[0m\u001b[0;34m,\u001b[0m \u001b[0mpitch_noise\u001b[0m\u001b[0;34m:\u001b[0m \u001b[0mList\u001b[0m\u001b[0;34m,\u001b[0m \u001b[0myaw_noise\u001b[0m\u001b[0;34m:\u001b[0m \u001b[0mList\u001b[0m\u001b[0;34m,\u001b[0m \u001b[0mnoise_range\u001b[0m\u001b[0;34m=\u001b[0m\u001b[0;34m'fixed'\u001b[0m\u001b[0;34m,\u001b[0m \u001b[0mnoise_distribution\u001b[0m\u001b[0;34m=\u001b[0m\u001b[0;34m'uniform'\u001b[0m\u001b[0;34m)\u001b[0m\u001b[0;34m:\u001b[0m\u001b[0;34m\u001b[0m\u001b[0;34m\u001b[0m\u001b[0m\n\u001b[0m\u001b[1;32m      6\u001b[0m         \u001b[0mself\u001b[0m\u001b[0;34m.\u001b[0m\u001b[0mx_noise\u001b[0m \u001b[0;34m=\u001b[0m \u001b[0mx_noise\u001b[0m\u001b[0;34m\u001b[0m\u001b[0;34m\u001b[0m\u001b[0m\n\u001b[1;32m      7\u001b[0m         \u001b[0mself\u001b[0m\u001b[0;34m.\u001b[0m\u001b[0my_noise\u001b[0m \u001b[0;34m=\u001b[0m \u001b[0my_noise\u001b[0m\u001b[0;34m\u001b[0m\u001b[0;34m\u001b[0m\u001b[0m\n",
      "\u001b[0;31mNameError\u001b[0m: name 'List' is not defined"
     ]
    }
   ],
   "source": [
    "class Noiser:\n",
    "    \"\"\"\n",
    "    Adds some fucking noise\n",
    "    \"\"\"\n",
    "    def __init__(self, x_noise: List, y_noise: List, z_noise: List, roll_noise: List, pitch_noise: List, yaw_noise: List, noise_range='fixed', noise_distribution='uniform'):\n",
    "        self.x_noise = x_noise\n",
    "        self.y_noise = y_noise\n",
    "        self.z_noise = z_noise\n",
    "        self.roll_noise = roll_noise\n",
    "        self.pitch_noise = pitch_noise\n",
    "        self.yaw_noise = yaw_noise\n",
    "        \n",
    "        self.noise_range = noise_range\n",
    "        assert self.noise_range in ['random', 'fixed'], 'your noise range is wrong. see: ' + self.noise_range\n",
    "        \n",
    "        if self.noise_range == 'random':\n",
    "            self.noise_distribution = noise_distribution\n",
    "            assert self.noise_distribution in ['uniform', 'normal'], 'your noise distribution is wrong. see: ' + self.noise_distribution\n",
    "            # and then assume the lists are length 2\n",
    "            for noise_arr in [x_noise, y_noise, z_noise, roll_noise, pitch_noise, yaw_noise]:\n",
    "                assert len(noise_arr) == 2, 'one of your noise arrays is not length 2. should be a min and max'\n",
    "        elif self.noise_range == 'fixed':\n",
    "            # go through every permutation\n",
    "            self.noise_permutation_counter = 0\n",
    "            self.reset_counter = 0\n",
    "            \n",
    "            # this is doggy doo list comprehension\n",
    "            self.noise_permutation_arr = [[x, y, z, roll, pitch, yaw] for x in x_noise for y in y_noise for z in z_noise for roll in roll_noise for pitch in pitch_noise for yaw in yaw_noise]\n",
    "            \n",
    "    def sample_noise(self):\n",
    "        if self.noise_range == 'random':\n",
    "            \n",
    "            if self.noise_distribution == 'uniform':\n",
    "                x = np.random.uniform(low=self.x_noise[0], high=self.x_noise[1])\n",
    "                y = np.random.uniform(low=self.y_noise[0], high=self.y_noise[1])\n",
    "                z = np.random.uniform(low=self.z_noise[0], high=self.z_noise[1])\n",
    "                roll = np.random.uniform(low=self.roll_noise[0], high=self.roll_noise[1])\n",
    "                pitch = np.random.uniform(low=self.pitch_noise[0], high=self.pitch_noise[1])\n",
    "                yaw = np.random.uniform(low=self.yaw_noise[0], high=self.yaw_noise[1])\n",
    "                \n",
    "            elif self.noise_distribution == 'normal':\n",
    "                # oop write this later\n",
    "                x = np.random.choice(self.x_noise)\n",
    "                y = np.random.choice(self.y_noise)\n",
    "                z = np.random.choice(self.z_noise)\n",
    "                roll = np.random.choice(self.roll_noise)\n",
    "                pitch = np.random.choice(self.pitch_noise)\n",
    "                yaw = np.random.choice(self.yaw_noise)\n",
    "            \n",
    "            return [x, y, z, roll, pitch, yaw]\n",
    "            \n",
    "        elif self.noise_range == 'fixed':\n",
    "            if self.noise_permutation_counter == len(self.noise_permutation_arr):\n",
    "                self.noise_permutation_counter = 0\n",
    "                self.reset_counter += 1\n",
    "                \n",
    "            # grab the permutation\n",
    "            noise_arr = self.noise_permutation_arr[self.noise_permutation_counter]\n",
    "            \n",
    "            # increment position in permutation arr\n",
    "            self.noise_permutation_counter += 1\n",
    "            \n",
    "            return noise_arr, self.noise_permutation_counter, self.reset_counter\n",
    "            "
   ]
  },
  {
   "cell_type": "code",
   "execution_count": null,
   "id": "73b3e9ab",
   "metadata": {},
   "outputs": [],
   "source": [
    ":L"
   ]
  },
  {
   "cell_type": "code",
   "execution_count": 9,
   "id": "1561b667",
   "metadata": {},
   "outputs": [],
   "source": [
    "import gym\n",
    "\n",
    "env = gym.make('gym_kinova_gripper:kinovagripper-v0')\n",
    "\n"
   ]
  },
  {
   "cell_type": "code",
   "execution_count": 10,
   "id": "fe9c62f2",
   "metadata": {},
   "outputs": [
    {
     "name": "stdout",
     "output_type": "stream",
     "text": [
      "Creating window glfw\n"
     ]
    }
   ],
   "source": [
    "for i in range(100):\n",
    "    env.render()\n",
    "    \n",
    "env.close() # broken"
   ]
  },
  {
   "cell_type": "code",
   "execution_count": 6,
   "id": "21c9345e",
   "metadata": {},
   "outputs": [],
   "source": [
    "env.close()"
   ]
  },
  {
   "cell_type": "code",
   "execution_count": 9,
   "id": "70a5e101",
   "metadata": {},
   "outputs": [
    {
     "ename": "IndexError",
     "evalue": "list index out of range",
     "output_type": "error",
     "traceback": [
      "\u001b[0;31m---------------------------------------------------------------------------\u001b[0m",
      "\u001b[0;31mIndexError\u001b[0m                                Traceback (most recent call last)",
      "\u001b[0;32m<ipython-input-9-f56797e0c8da>\u001b[0m in \u001b[0;36m<module>\u001b[0;34m\u001b[0m\n\u001b[0;32m----> 1\u001b[0;31m \u001b[0menv\u001b[0m\u001b[0;34m.\u001b[0m\u001b[0mstep\u001b[0m\u001b[0;34m(\u001b[0m\u001b[0;34m[\u001b[0m\u001b[0;36m0\u001b[0m\u001b[0;34m,\u001b[0m \u001b[0;36m0\u001b[0m\u001b[0;34m,\u001b[0m \u001b[0;36m0\u001b[0m\u001b[0;34m]\u001b[0m\u001b[0;34m)\u001b[0m\u001b[0;34m\u001b[0m\u001b[0;34m\u001b[0m\u001b[0m\n\u001b[0m",
      "\u001b[0;32m~/kinova_venv/lib/python3.6/site-packages/gym/wrappers/time_limit.py\u001b[0m in \u001b[0;36mstep\u001b[0;34m(self, action)\u001b[0m\n\u001b[1;32m     14\u001b[0m     \u001b[0;32mdef\u001b[0m \u001b[0mstep\u001b[0m\u001b[0;34m(\u001b[0m\u001b[0mself\u001b[0m\u001b[0;34m,\u001b[0m \u001b[0maction\u001b[0m\u001b[0;34m)\u001b[0m\u001b[0;34m:\u001b[0m\u001b[0;34m\u001b[0m\u001b[0;34m\u001b[0m\u001b[0m\n\u001b[1;32m     15\u001b[0m         \u001b[0;32massert\u001b[0m \u001b[0mself\u001b[0m\u001b[0;34m.\u001b[0m\u001b[0m_elapsed_steps\u001b[0m \u001b[0;32mis\u001b[0m \u001b[0;32mnot\u001b[0m \u001b[0;32mNone\u001b[0m\u001b[0;34m,\u001b[0m \u001b[0;34m\"Cannot call env.step() before calling reset()\"\u001b[0m\u001b[0;34m\u001b[0m\u001b[0;34m\u001b[0m\u001b[0m\n\u001b[0;32m---> 16\u001b[0;31m         \u001b[0mobservation\u001b[0m\u001b[0;34m,\u001b[0m \u001b[0mreward\u001b[0m\u001b[0;34m,\u001b[0m \u001b[0mdone\u001b[0m\u001b[0;34m,\u001b[0m \u001b[0minfo\u001b[0m \u001b[0;34m=\u001b[0m \u001b[0mself\u001b[0m\u001b[0;34m.\u001b[0m\u001b[0menv\u001b[0m\u001b[0;34m.\u001b[0m\u001b[0mstep\u001b[0m\u001b[0;34m(\u001b[0m\u001b[0maction\u001b[0m\u001b[0;34m)\u001b[0m\u001b[0;34m\u001b[0m\u001b[0;34m\u001b[0m\u001b[0m\n\u001b[0m\u001b[1;32m     17\u001b[0m         \u001b[0mself\u001b[0m\u001b[0;34m.\u001b[0m\u001b[0m_elapsed_steps\u001b[0m \u001b[0;34m+=\u001b[0m \u001b[0;36m1\u001b[0m\u001b[0;34m\u001b[0m\u001b[0;34m\u001b[0m\u001b[0m\n\u001b[1;32m     18\u001b[0m         \u001b[0;32mif\u001b[0m \u001b[0mself\u001b[0m\u001b[0;34m.\u001b[0m\u001b[0m_elapsed_steps\u001b[0m \u001b[0;34m>=\u001b[0m \u001b[0mself\u001b[0m\u001b[0;34m.\u001b[0m\u001b[0m_max_episode_steps\u001b[0m\u001b[0;34m:\u001b[0m\u001b[0;34m\u001b[0m\u001b[0;34m\u001b[0m\u001b[0m\n",
      "\u001b[0;32m~/sim-to-real-kinova/src/sim-to-real-kinova-master/openai_gym_kinova/src/gym_kinova_gripper/envs/kinova_gripper_env.py\u001b[0m in \u001b[0;36mstep\u001b[0;34m(self, action, graspnetwork)\u001b[0m\n\u001b[1;32m   1690\u001b[0m                         \u001b[0mself\u001b[0m\u001b[0;34m.\u001b[0m\u001b[0m_sim\u001b[0m\u001b[0;34m.\u001b[0m\u001b[0mdata\u001b[0m\u001b[0;34m.\u001b[0m\u001b[0mctrl\u001b[0m\u001b[0;34m[\u001b[0m\u001b[0mi\u001b[0m \u001b[0;34m+\u001b[0m \u001b[0;36m6\u001b[0m\u001b[0;34m]\u001b[0m \u001b[0;34m=\u001b[0m \u001b[0maction\u001b[0m\u001b[0;34m[\u001b[0m\u001b[0mi\u001b[0m \u001b[0;34m+\u001b[0m \u001b[0;36m3\u001b[0m\u001b[0;34m]\u001b[0m \u001b[0;34m+\u001b[0m \u001b[0;36m0.05\u001b[0m\u001b[0;34m\u001b[0m\u001b[0;34m\u001b[0m\u001b[0m\n\u001b[1;32m   1691\u001b[0m                     \u001b[0;32melse\u001b[0m\u001b[0;34m:\u001b[0m\u001b[0;34m\u001b[0m\u001b[0;34m\u001b[0m\u001b[0m\n\u001b[0;32m-> 1692\u001b[0;31m                         \u001b[0mself\u001b[0m\u001b[0;34m.\u001b[0m\u001b[0m_sim\u001b[0m\u001b[0;34m.\u001b[0m\u001b[0mdata\u001b[0m\u001b[0;34m.\u001b[0m\u001b[0mctrl\u001b[0m\u001b[0;34m[\u001b[0m\u001b[0mi\u001b[0m \u001b[0;34m+\u001b[0m \u001b[0;36m6\u001b[0m\u001b[0;34m]\u001b[0m \u001b[0;34m=\u001b[0m \u001b[0maction\u001b[0m\u001b[0;34m[\u001b[0m\u001b[0mi\u001b[0m \u001b[0;34m+\u001b[0m \u001b[0;36m3\u001b[0m\u001b[0;34m]\u001b[0m\u001b[0;34m\u001b[0m\u001b[0;34m\u001b[0m\u001b[0m\n\u001b[0m\u001b[1;32m   1693\u001b[0m                     \u001b[0mself\u001b[0m\u001b[0;34m.\u001b[0m\u001b[0m_sim\u001b[0m\u001b[0;34m.\u001b[0m\u001b[0mdata\u001b[0m\u001b[0;34m.\u001b[0m\u001b[0mctrl\u001b[0m\u001b[0;34m[\u001b[0m\u001b[0mi\u001b[0m \u001b[0;34m*\u001b[0m \u001b[0;36m2\u001b[0m \u001b[0;34m+\u001b[0m \u001b[0;36m1\u001b[0m\u001b[0;34m]\u001b[0m \u001b[0;34m=\u001b[0m \u001b[0mstuff\u001b[0m\u001b[0;34m[\u001b[0m\u001b[0mi\u001b[0m\u001b[0;34m]\u001b[0m\u001b[0;34m\u001b[0m\u001b[0;34m\u001b[0m\u001b[0m\n\u001b[1;32m   1694\u001b[0m                 \u001b[0mself\u001b[0m\u001b[0;34m.\u001b[0m\u001b[0m_sim\u001b[0m\u001b[0;34m.\u001b[0m\u001b[0mstep\u001b[0m\u001b[0;34m(\u001b[0m\u001b[0;34m)\u001b[0m\u001b[0;34m\u001b[0m\u001b[0;34m\u001b[0m\u001b[0m\n",
      "\u001b[0;31mIndexError\u001b[0m: list index out of range"
     ]
    }
   ],
   "source": [
    "env.step([0, 0, 0])"
   ]
  },
  {
   "cell_type": "code",
   "execution_count": 5,
   "id": "9a140b26",
   "metadata": {},
   "outputs": [
    {
     "ename": "NameError",
     "evalue": "name 'env' is not defined",
     "output_type": "error",
     "traceback": [
      "\u001b[0;31m---------------------------------------------------------------------------\u001b[0m",
      "\u001b[0;31mNameError\u001b[0m                                 Traceback (most recent call last)",
      "\u001b[0;32m<ipython-input-5-99a0bdd48288>\u001b[0m in \u001b[0;36m<module>\u001b[0;34m\u001b[0m\n\u001b[0;32m----> 1\u001b[0;31m \u001b[0mobs\u001b[0m \u001b[0;34m=\u001b[0m \u001b[0menv\u001b[0m\u001b[0;34m.\u001b[0m\u001b[0mreset\u001b[0m\u001b[0;34m(\u001b[0m\u001b[0mshape_keys\u001b[0m\u001b[0;34m=\u001b[0m\u001b[0;34m[\u001b[0m\u001b[0;34m'CubeM'\u001b[0m\u001b[0;34m]\u001b[0m\u001b[0;34m,\u001b[0m \u001b[0mhand_orientation\u001b[0m\u001b[0;34m=\u001b[0m\u001b[0;34m'normal'\u001b[0m\u001b[0;34m)\u001b[0m  \u001b[0;31m# TODO: make sure this is NO OBJECT\u001b[0m\u001b[0;34m\u001b[0m\u001b[0;34m\u001b[0m\u001b[0m\n\u001b[0m\u001b[1;32m      2\u001b[0m \u001b[0menv\u001b[0m\u001b[0;34m.\u001b[0m\u001b[0mrender\u001b[0m\u001b[0;34m(\u001b[0m\u001b[0;34m)\u001b[0m\u001b[0;34m\u001b[0m\u001b[0;34m\u001b[0m\u001b[0m\n",
      "\u001b[0;31mNameError\u001b[0m: name 'env' is not defined"
     ]
    }
   ],
   "source": [
    "obs = env.reset(shape_keys=['CubeM'], hand_orientation='normal')  # TODO: make sure this is NO OBJECT\n",
    "env.render()"
   ]
  },
  {
   "cell_type": "code",
   "execution_count": 13,
   "id": "92b007f0",
   "metadata": {},
   "outputs": [],
   "source": [
    "# FIRST EXPERIMENT: ACTION SPACE\n",
    "\n",
    "done = False\n",
    "\n",
    "timestep_count = 0\n",
    "\n",
    "# shape_keys=['CubeM', 'CubeS']\n",
    "# hand_orientation: random, normal (0 deg), top (90 deg), rotated (67 deg)\n",
    "obs = env.reset(shape_keys=['CubeM'], hand_orientation='normal')  # TODO: make sure this is NO OBJECT\n",
    "env.render()\n",
    "\n",
    "while not done:\n",
    "    action = np.array([0, 3, 3, 3])\n",
    "    obs, total_reward, done, info = env.step(action)\n",
    "    \n",
    "    env.render()\n",
    "    \n",
    "    timestep_count += 1"
   ]
  },
  {
   "cell_type": "code",
   "execution_count": 12,
   "id": "2b5d5553",
   "metadata": {},
   "outputs": [
    {
     "name": "stdout",
     "output_type": "stream",
     "text": [
      "num of time steps: 45\n"
     ]
    }
   ],
   "source": [
    "print('num of time steps:', timestep_count)\n",
    "\n"
   ]
  },
  {
   "cell_type": "code",
   "execution_count": 19,
   "id": "5253d321",
   "metadata": {},
   "outputs": [],
   "source": [
    "idx_arr = state_dim_setup('adam_sim2real')"
   ]
  },
  {
   "cell_type": "code",
   "execution_count": 59,
   "id": "f08ced3a",
   "metadata": {},
   "outputs": [
    {
     "data": {
      "text/plain": [
       "array([ 7.81004252e-02,  3.42315167e-02,  3.13802628e-02,  4.98781332e-02,\n",
       "        1.19782256e-02,  2.61084636e-02,  7.81004174e-02,  3.42315167e-02,\n",
       "       -3.14348337e-02,  4.98780071e-02,  1.19782256e-02, -2.61636678e-02,\n",
       "        0.00000000e+00,  1.02999206e-18, -1.38777878e-17,  3.51104606e-03,\n",
       "        3.82424873e-02, -1.25666907e-02,  0.00000000e+00,  0.00000000e+00,\n",
       "        0.00000000e+00,  0.00000000e+00,  0.00000000e+00,  0.00000000e+00,\n",
       "        2.03710422e-02,  2.03710422e-02,  1.05462499e-01,  8.84488016e-02,\n",
       "        5.56575851e-02,  8.94585565e-02,  5.94800385e-02])"
      ]
     },
     "execution_count": 59,
     "metadata": {},
     "output_type": "execute_result"
    }
   ],
   "source": [
    "obs = env.reset(shape_keys=['CubeM'], hand_orientation='normal')  # TODO: make sure this is NO OBJECT\n",
    "np.array(obs)[idx_arr]"
   ]
  },
  {
   "cell_type": "code",
   "execution_count": 86,
   "id": "c8156d0e",
   "metadata": {},
   "outputs": [
    {
     "data": {
      "text/plain": [
       "(False,\n",
       " array([ 6.91348060e-03,  5.81679647e-02,  1.80836220e-02,  2.87007696e-02,\n",
       "         2.78457039e-02,  2.21528468e-02,  2.60393180e-03,  5.58641107e-02,\n",
       "        -1.73332389e-02,  2.70172910e-02,  2.77449727e-02, -2.18936268e-02,\n",
       "         0.00000000e+00, -2.43945489e-18,  0.00000000e+00, -1.10534958e-02,\n",
       "         2.53972089e-02, -1.13681256e-02,  9.33591052e-01,  1.30907301e+00,\n",
       "         1.38715544e+00,  4.61123097e-01,  6.50463890e-01,  6.89746205e-01,\n",
       "         2.03710422e-02,  2.03710422e-02,  1.05462499e-01,  4.55606385e-02,\n",
       "         2.27877318e-02,  4.39041261e-02,  4.59486178e-02]))"
      ]
     },
     "execution_count": 86,
     "metadata": {},
     "output_type": "execute_result"
    }
   ],
   "source": [
    "obs, total_reward, done, info = env.step(action)\n",
    "done, np.array(obs)[idx_arr]"
   ]
  },
  {
   "cell_type": "code",
   "execution_count": 88,
   "id": "6ebd3688",
   "metadata": {},
   "outputs": [
    {
     "ename": "NameError",
     "evalue": "name '__file__' is not defined",
     "output_type": "error",
     "traceback": [
      "\u001b[0;31m---------------------------------------------------------------------------\u001b[0m",
      "\u001b[0;31mNameError\u001b[0m                                 Traceback (most recent call last)",
      "\u001b[0;32m<ipython-input-88-b7a534c22e89>\u001b[0m in \u001b[0;36m<module>\u001b[0;34m\u001b[0m\n\u001b[1;32m      1\u001b[0m \u001b[0;32mimport\u001b[0m \u001b[0mos\u001b[0m\u001b[0;34m\u001b[0m\u001b[0;34m\u001b[0m\u001b[0m\n\u001b[0;32m----> 2\u001b[0;31m \u001b[0mos\u001b[0m\u001b[0;34m.\u001b[0m\u001b[0mpath\u001b[0m\u001b[0;34m.\u001b[0m\u001b[0mdirname\u001b[0m\u001b[0;34m(\u001b[0m\u001b[0mos\u001b[0m\u001b[0;34m.\u001b[0m\u001b[0mpath\u001b[0m\u001b[0;34m.\u001b[0m\u001b[0mrealpath\u001b[0m\u001b[0;34m(\u001b[0m\u001b[0m__file__\u001b[0m\u001b[0;34m)\u001b[0m\u001b[0;34m)\u001b[0m\u001b[0;34m\u001b[0m\u001b[0;34m\u001b[0m\u001b[0m\n\u001b[0m",
      "\u001b[0;31mNameError\u001b[0m: name '__file__' is not defined"
     ]
    }
   ],
   "source": [
    "import os\n",
    "os.path.dirname(os.path.realpath(__file__))"
   ]
  },
  {
   "cell_type": "code",
   "execution_count": null,
   "id": "f23c7c4c",
   "metadata": {},
   "outputs": [],
   "source": []
  }
 ],
 "metadata": {
  "kernelspec": {
   "display_name": "Python 3",
   "language": "python",
   "name": "python3"
  },
  "language_info": {
   "codemirror_mode": {
    "name": "ipython",
    "version": 3
   },
   "file_extension": ".py",
   "mimetype": "text/x-python",
   "name": "python",
   "nbconvert_exporter": "python",
   "pygments_lexer": "ipython3",
   "version": "3.6.9"
  }
 },
 "nbformat": 4,
 "nbformat_minor": 5
}
