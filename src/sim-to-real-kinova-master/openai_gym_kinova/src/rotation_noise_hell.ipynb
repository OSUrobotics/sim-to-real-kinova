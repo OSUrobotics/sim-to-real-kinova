{
 "cells": [
  {
   "cell_type": "code",
   "execution_count": null,
   "id": "manual-dublin",
   "metadata": {},
   "outputs": [],
   "source": [
    "import numpy as np\n",
    "from scipy.spatial.transform import Rotation as R\n",
    "\n",
    "# first: rotation diff\n",
    "com_palm = [0,0,0]\n",
    "com_wrist_link = [0,0,0]\n",
    "\n",
    "# translation from link to palm\n",
    "translation_wristlink_to_palm = com_palm - com_wrist_link\n",
    "# TODO: turn into a translation MATRIX (rodrigues matrix?)\n",
    "\n",
    "# next: rotation difference\n",
    "# how_much_rotation: in radians. use np.radians to covert if necessary\n",
    "# roll, pitch, yaw.\n",
    "rotation_noise = R.from_euler('xyz', how_much_rotation)\n",
    "translation_noise =  \n",
    "\n",
    "# \n",
    "\n",
    "\n",
    "# combine all the transforms\n",
    "\n",
    "translation_wristlink_to_palm "
   ]
  },
  {
   "cell_type": "code",
   "execution_count": 2,
   "id": "1509d809",
   "metadata": {},
   "outputs": [
    {
     "ename": "SyntaxError",
     "evalue": "invalid syntax (<ipython-input-2-dcb2fbe3586e>, line 22)",
     "output_type": "error",
     "traceback": [
      "\u001b[0;36m  File \u001b[0;32m\"<ipython-input-2-dcb2fbe3586e>\"\u001b[0;36m, line \u001b[0;32m22\u001b[0m\n\u001b[0;31m    translation_noise =\u001b[0m\n\u001b[0m                         ^\u001b[0m\n\u001b[0;31mSyntaxError\u001b[0m\u001b[0;31m:\u001b[0m invalid syntax\n"
     ]
    }
   ],
   "source": [
    "import numpy as np\n",
    "from scipy.spatial.transform import Rotation as R\n",
    "\n",
    "# first: rotation diff\n",
    "com_palm = [0,0,0]\n",
    "com_wrist_link = [0,0,0]\n",
    "\n",
    "# translation from link to palm\n",
    "translation_wristlink_to_palm = com_palm - com_wrist_link\n",
    "# TODO: turn into a translation MATRIX (rodrigues matrix?)\n",
    "\n",
    "# next: rotation difference, from wrist link to palm link\n",
    "R.from_euler('xyz', [])  # difference between two quaternions?\n",
    "\n",
    "\n",
    "\n",
    "\n",
    "\n",
    "# how_much_rotation: in radians. use np.radians to covert if necessary\n",
    "# roll, pitch, yaw.\n",
    "rotation_noise = R.from_euler('xyz', how_much_rotation)\n",
    "translation_noise =  \n",
    "\n",
    "# next: translation noise in local coordinates\n",
    "\n",
    "\n",
    "# combine all the transforms\n",
    "\n",
    "translation_wristlink_to_palm "
   ]
  },
  {
   "cell_type": "code",
   "execution_count": null,
   "id": "12d2255e",
   "metadata": {},
   "outputs": [],
   "source": []
  },
  {
   "cell_type": "code",
   "execution_count": null,
   "id": "50dff391",
   "metadata": {},
   "outputs": [],
   "source": []
  },
  {
   "cell_type": "code",
   "execution_count": null,
   "id": "272796e8",
   "metadata": {},
   "outputs": [],
   "source": [
    "\n",
    "def rotate_around_axis(vec, theta, axis, input_unit='deg'):\n",
    "    \"\"\"\n",
    "    rotate around an arbitrary axis\n",
    "    vec: xyz\n",
    "    theta: single angle, but now around arbitrary axis\n",
    "    axis: defined as a 3d vector direction, xyz\n",
    "    \"\"\"\n",
    "    rotation_radians = theta\n",
    "\n",
    "    if input_unit == 'deg':\n",
    "        rotation_radians = np.radians(theta)\n",
    "\n",
    "    rotation_axis = np.array(axis)  # type conversion... just in case\n",
    "    rotation_vector = rotation_radians * rotation_axis\n",
    "    rotation = R.from_rotvec(rotation_vector)\n",
    "    rotated_vec = rotation.apply(vec)\n",
    "    return rotated_vec"
   ]
  },
  {
   "cell_type": "code",
   "execution_count": 3,
   "id": "f937307f",
   "metadata": {},
   "outputs": [],
   "source": [
    "import numpy as np\n",
    "from scipy.spatial.transform import Rotation as R"
   ]
  },
  {
   "cell_type": "code",
   "execution_count": 7,
   "id": "2ae3c875",
   "metadata": {},
   "outputs": [],
   "source": [
    "position_vector_at_ground = np.array([0, 0.18, 0.0654])\n",
    "normal_orientation_rotation = R.from_euler(seq='XYZ', angles=[-1.57, 0, -1.57], degrees=False)  # caps because instrinsic rotation"
   ]
  },
  {
   "cell_type": "code",
   "execution_count": 23,
   "id": "65fbd2df",
   "metadata": {},
   "outputs": [],
   "source": [
    "normal_orientation_rotation.as_euler(seq='XYZ')\n",
    "\n",
    "\n",
    "default_orientation_rotation = R.from_euler(seq='XYZ', angles=[0, 0, 0], degrees=False)"
   ]
  },
  {
   "cell_type": "code",
   "execution_count": 27,
   "id": "007a6881",
   "metadata": {},
   "outputs": [
    {
     "data": {
      "text/plain": [
       "array([[ 7.96326711e-04,  0.00000000e+00,  0.00000000e+00],\n",
       "       [-0.00000000e+00,  6.34136230e-07,  0.00000000e+00],\n",
       "       [ 0.00000000e+00, -0.00000000e+00,  7.96326711e-04]])"
      ]
     },
     "execution_count": 27,
     "metadata": {},
     "output_type": "execute_result"
    }
   ],
   "source": [
    "default_orientation_rotation.as_matrix() * normal_orientation_rotation.as_matrix()"
   ]
  },
  {
   "cell_type": "code",
   "execution_count": 36,
   "id": "28565694",
   "metadata": {},
   "outputs": [],
   "source": [
    "# (red, green, blue)"
   ]
  },
  {
   "cell_type": "code",
   "execution_count": 38,
   "id": "18b22af6",
   "metadata": {},
   "outputs": [
    {
     "data": {
      "text/plain": [
       "[-3.9612757518625585e-13, -1.5699999999998484, 0.0007963267945001462]"
      ]
     },
     "execution_count": 38,
     "metadata": {},
     "output_type": "execute_result"
    }
   ],
   "source": [
    "# THIS IS THE GOLDEN GOOSE!! actually does extrinsic rotation noise\n",
    "bruh = np.matmul(default_orientation_rotation.as_matrix(), normal_orientation_rotation.as_matrix())\n",
    "new_mujoco_euler = R.from_matrix(bruh).as_euler(seq='XYZ')\n",
    "\n",
    "desired_rotation = R.from_rotvec([0, 0, np.pi/2])\n",
    "# noisy_ori = np.matmul(bruh, desired_rotation.as_matrix())\n",
    "noisy_ori = np.matmul(desired_rotation.as_matrix(), bruh)\n",
    "new_new = R.from_matrix(noisy_ori).as_euler(seq='XYZ')\n",
    "list(new_new)"
   ]
  },
  {
   "cell_type": "code",
   "execution_count": 5,
   "id": "87442c69",
   "metadata": {},
   "outputs": [
    {
     "data": {
      "text/plain": [
       "[-0.18, 3.9968028886505634e-17, 0.0654]"
      ]
     },
     "execution_count": 5,
     "metadata": {},
     "output_type": "execute_result"
    }
   ],
   "source": [
    "# okay now we have pure extrinsic rotation noise. but now we have to preserve our palm...\n",
    "\n",
    "# this is the part where we can pivot the arm around the sphere\n",
    "\n",
    "def rotate_around_origin(vec, how_much_rotation):\n",
    "    # vec: xyz\n",
    "    # how_much_rotation: in radians. use np.radians to covert if necessary\n",
    "    # roll, pitch, yaw.\n",
    "    rotation = R.from_euler('xyz', how_much_rotation)\n",
    "\n",
    "    rotated_vec = rotation.apply(vec)\n",
    "    return rotated_vec\n",
    "\n",
    "list(rotate_around_origin([0,0.18,0.0654], [0, 0, np.pi/2]))"
   ]
  },
  {
   "cell_type": "code",
   "execution_count": 7,
   "id": "d957fc87",
   "metadata": {},
   "outputs": [],
   "source": [
    "import numpy as np\n",
    "from scipy.spatial.transform import Rotation as R\n",
    "\n",
    "def rotate_around_origin(vec, how_much_rotation):\n",
    "    # vec: xyz\n",
    "    # how_much_rotation: in radians. use np.radians to covert if necessary\n",
    "    # roll, pitch, yaw.\n",
    "    rotation = R.from_euler('xyz', how_much_rotation)\n",
    "\n",
    "    rotated_vec = rotation.apply(vec)\n",
    "    return rotated_vec\n",
    "\n",
    "def rotate_around_sphere_mucrappo(rotvec_noise, local_rotation_pos_shift=np.array([0,0,0]), default_orientation=np.array([0,0,0]), grasp_translation=np.array([0,0.18,0.0654]), grasp_orientation=np.array([-1.57, 0, -1.57]), post_rotation_pos_shift=np.array([0,0,0])):\n",
    "    \"\"\"\n",
    "    rotates a point around a sphere\n",
    "    \n",
    "    rotvec_noise: rotation noise to be apply extrinsically, and to rotate the coordinates accordingly\n",
    "    default_orientation: the default orientation. should stay at 0s\n",
    "    grasp_translation: mujoco's euler value for whatever grasp position you're using\n",
    "    grasp_orientation: mujoco's pos value for whatever grasp position you're using\n",
    "    local_rotation_pos_shift: shifting the hand in local coordinates before the shift\n",
    "    post_rotation_pos_shift: shifting the hand in global coordinates, after the inner shift...\n",
    "    \n",
    "    indep_rotation_noise: rotation noise that rotates without any consequence to th\n",
    "    \"\"\"\n",
    "    # get rotation objects from starting grasp orientation, and the default orientation (should be 0 0 0)\n",
    "    grasp_orientation_rotation = R.from_euler(seq='XYZ', angles=grasp_orientation, degrees=False)  # caps because instrinsic rotation\n",
    "    default_orientation_rotation = R.from_euler(seq='XYZ', angles=default_orientation, degrees=False)\n",
    "    \n",
    "    # apply the orientation onto each other\n",
    "    rotation_orientation = np.matmul(default_orientation_rotation.as_matrix(), grasp_orientation_rotation.as_matrix())\n",
    "    \n",
    "    # apply rotation noise\n",
    "    desired_noise_rotation = R.from_rotvec(rotvec_noise)\n",
    "    noisy_ori = np.matmul(desired_noise_rotation.as_matrix(), rotation_orientation)\n",
    "    noisy_mujoco_euler = R.from_matrix(noisy_ori).as_euler(seq='XYZ')\n",
    "    \n",
    "    # get new postition\n",
    "    noisy_mujoco_pos = rotate_around_origin(grasp_translation + local_rotation_pos_shift, rotvec_noise) + post_rotation_pos_shift\n",
    "    \n",
    "    return noisy_mujoco_euler, noisy_mujoco_pos\n",
    "    \n",
    "def stringify_mucrappo(noisy_mujoco_euler_arr, noisy_mujoco_pos_arr):\n",
    "    return 'euler: ' +  ' '.join(noisy_mujoco_euler_arr.astype(str)) + '\\n' + 'pos: ' + ' '.join(noisy_mujoco_pos_arr.astype(str))"
   ]
  },
  {
   "cell_type": "code",
   "execution_count": 16,
   "id": "5b06591c",
   "metadata": {},
   "outputs": [
    {
     "name": "stdout",
     "output_type": "stream",
     "text": [
      "euler: -1.5696701508795226 -0.7853978463293334 -1.5692036734575932\n",
      "pos: -0.8343860018001261 0.834386001800126 0.0654\n"
     ]
    }
   ],
   "source": [
    "noisy_mujoco_euler_arr, noisy_mujoco_pos_arr = rotate_around_sphere_mucrappo([0, 0, np.pi/4], local_rotation_pos_shift=[0, 1, 0])\n",
    "print(stringify_mucrappo(noisy_mujoco_euler_arr, noisy_mujoco_pos_arr))"
   ]
  },
  {
   "cell_type": "code",
   "execution_count": 23,
   "id": "fd541bcc",
   "metadata": {},
   "outputs": [
    {
     "ename": "ValueError",
     "evalue": "Expected input of shape (3,) or (P, 3), got (6,).",
     "output_type": "error",
     "traceback": [
      "\u001b[0;31m---------------------------------------------------------------------------\u001b[0m",
      "\u001b[0;31mValueError\u001b[0m                                Traceback (most recent call last)",
      "\u001b[0;32m<ipython-input-23-08a20a47251a>\u001b[0m in \u001b[0;36m<module>\u001b[0;34m\u001b[0m\n\u001b[0;32m----> 1\u001b[0;31m \u001b[0mnoisy_mujoco_euler_arr\u001b[0m\u001b[0;34m,\u001b[0m \u001b[0mnoisy_mujoco_pos_arr\u001b[0m \u001b[0;34m=\u001b[0m \u001b[0mrotate_around_sphere_mucrappo\u001b[0m\u001b[0;34m(\u001b[0m\u001b[0;34m[\u001b[0m\u001b[0;36m0\u001b[0m\u001b[0;34m,\u001b[0m \u001b[0;36m0\u001b[0m\u001b[0;34m,\u001b[0m \u001b[0mnp\u001b[0m\u001b[0;34m.\u001b[0m\u001b[0mpi\u001b[0m\u001b[0;34m/\u001b[0m\u001b[0;36m4\u001b[0m\u001b[0;34m]\u001b[0m\u001b[0;34m,\u001b[0m \u001b[0mlocal_rotation_pos_shift\u001b[0m\u001b[0;34m=\u001b[0m\u001b[0;34m[\u001b[0m\u001b[0;36m0\u001b[0m\u001b[0;34m,\u001b[0m \u001b[0;36m0\u001b[0m\u001b[0;34m,\u001b[0m \u001b[0;36m0\u001b[0m\u001b[0;34m]\u001b[0m\u001b[0;34m,\u001b[0m \u001b[0mgrasp_translation\u001b[0m\u001b[0;34m=\u001b[0m\u001b[0;34m[\u001b[0m\u001b[0;36m0\u001b[0m\u001b[0;34m,\u001b[0m \u001b[0;36m0\u001b[0m\u001b[0;34m,\u001b[0m \u001b[0;36m1\u001b[0m\u001b[0;34m]\u001b[0m\u001b[0;34m,\u001b[0m \u001b[0mgrasp_orientation\u001b[0m\u001b[0;34m=\u001b[0m\u001b[0;34m[\u001b[0m\u001b[0;36m0\u001b[0m\u001b[0;34m,\u001b[0m\u001b[0;36m0\u001b[0m\u001b[0;34m,\u001b[0m\u001b[0;36m3.14\u001b[0m\u001b[0;34m]\u001b[0m\u001b[0;34m)\u001b[0m\u001b[0;34m\u001b[0m\u001b[0;34m\u001b[0m\u001b[0m\n\u001b[0m\u001b[1;32m      2\u001b[0m \u001b[0mprint\u001b[0m\u001b[0;34m(\u001b[0m\u001b[0mstringify_mucrappo\u001b[0m\u001b[0;34m(\u001b[0m\u001b[0mnoisy_mujoco_euler_arr\u001b[0m\u001b[0;34m,\u001b[0m \u001b[0mnoisy_mujoco_pos_arr\u001b[0m\u001b[0;34m)\u001b[0m\u001b[0;34m)\u001b[0m\u001b[0;34m\u001b[0m\u001b[0;34m\u001b[0m\u001b[0m\n",
      "\u001b[0;32m<ipython-input-15-bcd51058e9b8>\u001b[0m in \u001b[0;36mrotate_around_sphere_mucrappo\u001b[0;34m(rotvec_noise, local_rotation_pos_shift, default_orientation, grasp_translation, grasp_orientation, post_rotation_pos_shift)\u001b[0m\n\u001b[1;32m     35\u001b[0m \u001b[0;34m\u001b[0m\u001b[0m\n\u001b[1;32m     36\u001b[0m     \u001b[0;31m# get new postition\u001b[0m\u001b[0;34m\u001b[0m\u001b[0;34m\u001b[0m\u001b[0;34m\u001b[0m\u001b[0m\n\u001b[0;32m---> 37\u001b[0;31m     \u001b[0mnoisy_mujoco_pos\u001b[0m \u001b[0;34m=\u001b[0m \u001b[0mrotate_around_origin\u001b[0m\u001b[0;34m(\u001b[0m\u001b[0mgrasp_translation\u001b[0m \u001b[0;34m+\u001b[0m \u001b[0mlocal_rotation_pos_shift\u001b[0m\u001b[0;34m,\u001b[0m \u001b[0mrotvec_noise\u001b[0m\u001b[0;34m)\u001b[0m \u001b[0;34m+\u001b[0m \u001b[0mpost_rotation_pos_shift\u001b[0m\u001b[0;34m\u001b[0m\u001b[0;34m\u001b[0m\u001b[0m\n\u001b[0m\u001b[1;32m     38\u001b[0m \u001b[0;34m\u001b[0m\u001b[0m\n\u001b[1;32m     39\u001b[0m     \u001b[0;32mreturn\u001b[0m \u001b[0mnoisy_mujoco_euler\u001b[0m\u001b[0;34m,\u001b[0m \u001b[0mnoisy_mujoco_pos\u001b[0m\u001b[0;34m\u001b[0m\u001b[0;34m\u001b[0m\u001b[0m\n",
      "\u001b[0;32m<ipython-input-15-bcd51058e9b8>\u001b[0m in \u001b[0;36mrotate_around_origin\u001b[0;34m(vec, how_much_rotation)\u001b[0m\n\u001b[1;32m      8\u001b[0m     \u001b[0mrotation\u001b[0m \u001b[0;34m=\u001b[0m \u001b[0mR\u001b[0m\u001b[0;34m.\u001b[0m\u001b[0mfrom_euler\u001b[0m\u001b[0;34m(\u001b[0m\u001b[0;34m'xyz'\u001b[0m\u001b[0;34m,\u001b[0m \u001b[0mhow_much_rotation\u001b[0m\u001b[0;34m)\u001b[0m\u001b[0;34m\u001b[0m\u001b[0;34m\u001b[0m\u001b[0m\n\u001b[1;32m      9\u001b[0m \u001b[0;34m\u001b[0m\u001b[0m\n\u001b[0;32m---> 10\u001b[0;31m     \u001b[0mrotated_vec\u001b[0m \u001b[0;34m=\u001b[0m \u001b[0mrotation\u001b[0m\u001b[0;34m.\u001b[0m\u001b[0mapply\u001b[0m\u001b[0;34m(\u001b[0m\u001b[0mvec\u001b[0m\u001b[0;34m)\u001b[0m\u001b[0;34m\u001b[0m\u001b[0;34m\u001b[0m\u001b[0m\n\u001b[0m\u001b[1;32m     11\u001b[0m     \u001b[0;32mreturn\u001b[0m \u001b[0mrotated_vec\u001b[0m\u001b[0;34m\u001b[0m\u001b[0;34m\u001b[0m\u001b[0m\n\u001b[1;32m     12\u001b[0m \u001b[0;34m\u001b[0m\u001b[0m\n",
      "\u001b[0;32m~/research/KinovaGrasping/venv/lib/python3.6/site-packages/scipy/spatial/transform/rotation.py\u001b[0m in \u001b[0;36mapply\u001b[0;34m(self, vectors, inverse)\u001b[0m\n\u001b[1;32m   1313\u001b[0m         \u001b[0;32mif\u001b[0m \u001b[0mvectors\u001b[0m\u001b[0;34m.\u001b[0m\u001b[0mndim\u001b[0m \u001b[0;34m>\u001b[0m \u001b[0;36m2\u001b[0m \u001b[0;32mor\u001b[0m \u001b[0mvectors\u001b[0m\u001b[0;34m.\u001b[0m\u001b[0mshape\u001b[0m\u001b[0;34m[\u001b[0m\u001b[0;34m-\u001b[0m\u001b[0;36m1\u001b[0m\u001b[0;34m]\u001b[0m \u001b[0;34m!=\u001b[0m \u001b[0;36m3\u001b[0m\u001b[0;34m:\u001b[0m\u001b[0;34m\u001b[0m\u001b[0;34m\u001b[0m\u001b[0m\n\u001b[1;32m   1314\u001b[0m             raise ValueError(\"Expected input of shape (3,) or (P, 3), \"\n\u001b[0;32m-> 1315\u001b[0;31m                              \"got {}.\".format(vectors.shape))\n\u001b[0m\u001b[1;32m   1316\u001b[0m \u001b[0;34m\u001b[0m\u001b[0m\n\u001b[1;32m   1317\u001b[0m         \u001b[0msingle_vector\u001b[0m \u001b[0;34m=\u001b[0m \u001b[0;32mFalse\u001b[0m\u001b[0;34m\u001b[0m\u001b[0;34m\u001b[0m\u001b[0m\n",
      "\u001b[0;31mValueError\u001b[0m: Expected input of shape (3,) or (P, 3), got (6,)."
     ]
    }
   ],
   "source": [
    "noisy_mujoco_euler_arr, noisy_mujoco_pos_arr = rotate_around_sphere_mucrappo([0, 0, np.pi/4], local_rotation_pos_shift=[0, 0, 0], grasp_translation=[0, 0, 1], grasp_orientation=[0,0,3.14])\n",
    "print(stringify_mucrappo(noisy_mujoco_euler_arr, noisy_mujoco_pos_arr))"
   ]
  },
  {
   "cell_type": "code",
   "execution_count": 43,
   "id": "418478b4",
   "metadata": {},
   "outputs": [
    {
     "name": "stdout",
     "output_type": "stream",
     "text": [
      "euler: 0.0 0.7853981633974483 3.14\n",
      "pos: 0.5656854249492381 0.0 0.565685424949238\n"
     ]
    }
   ],
   "source": [
    "kwarg_dict = {\n",
    "    'rotvec_noise': [0, np.pi/4, 0],\n",
    "    'local_rotation_pos_shift': [0, 0, 0],\n",
    "    'grasp_translation': np.array([0, 0, 0.8]),\n",
    "    'grasp_orientation': np.array([0, 0, 3.14])\n",
    "}\n",
    "noisy_mujoco_euler_arr, noisy_mujoco_pos_arr = rotate_around_sphere_mucrappo(**kwarg_dict)\n",
    "print(stringify_mucrappo(noisy_mujoco_euler_arr, noisy_mujoco_pos_arr))"
   ]
  },
  {
   "cell_type": "code",
   "execution_count": 44,
   "id": "d5307a6e",
   "metadata": {},
   "outputs": [
    {
     "data": {
      "text/plain": [
       "0.08726646259971647"
      ]
     },
     "execution_count": 44,
     "metadata": {},
     "output_type": "execute_result"
    }
   ],
   "source": [
    "np.deg2rad(5)"
   ]
  },
  {
   "cell_type": "code",
   "execution_count": 53,
   "id": "1eaa8de2",
   "metadata": {},
   "outputs": [
    {
     "name": "stdout",
     "output_type": "stream",
     "text": [
      "euler: -1.5698768078808927 -0.5235985925389177 -1.5695402405915897\n",
      "pos: -0.17660254037844386 0.10588457268119897 0.0654\n"
     ]
    }
   ],
   "source": [
    "kwarg_dict = {\n",
    "    'rotvec_noise': [0, 0, np.deg2rad(30)],\n",
    "    'local_rotation_pos_shift': [-0.1, 0, 0]\n",
    "}\n",
    "noisy_mujoco_euler_arr, noisy_mujoco_pos_arr = rotate_around_sphere_mucrappo(**kwarg_dict)\n",
    "print(stringify_mucrappo(noisy_mujoco_euler_arr, noisy_mujoco_pos_arr))"
   ]
  },
  {
   "cell_type": "code",
   "execution_count": 10,
   "id": "bccb3073",
   "metadata": {},
   "outputs": [
    {
     "name": "stdout",
     "output_type": "stream",
     "text": [
      "<class 'numpy.float64'>\n"
     ]
    }
   ],
   "source": [
    "print(type(noisy_mujoco_euler_arr[0]))"
   ]
  },
  {
   "cell_type": "code",
   "execution_count": null,
   "id": "6fc46e4e",
   "metadata": {},
   "outputs": [],
   "source": []
  },
  {
   "cell_type": "code",
   "execution_count": 20,
   "id": "17571c1e",
   "metadata": {},
   "outputs": [
    {
     "ename": "ValueError",
     "evalue": "Expected input of shape (3,) or (P, 3), got (1, 1, 1, 1, 1, 1, 1, 1, 1, 1, 1, 1, 1, 1, 1, 1, 1, 1, 1, 1, 1, 1, 1, 1, 1, 1, 1, 1, 1, 1, 1, 1).",
     "output_type": "error",
     "traceback": [
      "\u001b[0;31m---------------------------------------------------------------------------\u001b[0m",
      "\u001b[0;31mValueError\u001b[0m                                Traceback (most recent call last)",
      "\u001b[0;32m<ipython-input-20-cefbc505681c>\u001b[0m in \u001b[0;36m<module>\u001b[0;34m\u001b[0m\n\u001b[0;32m----> 1\u001b[0;31m \u001b[0mR\u001b[0m\u001b[0;34m.\u001b[0m\u001b[0mfrom_euler\u001b[0m\u001b[0;34m(\u001b[0m\u001b[0mseq\u001b[0m\u001b[0;34m=\u001b[0m\u001b[0;34m'XYZ'\u001b[0m\u001b[0;34m,\u001b[0m \u001b[0mangles\u001b[0m\u001b[0;34m=\u001b[0m\u001b[0;34m[\u001b[0m\u001b[0;36m0\u001b[0m\u001b[0;34m,\u001b[0m \u001b[0;36m0\u001b[0m\u001b[0;34m,\u001b[0m \u001b[0;36m0\u001b[0m\u001b[0;34m]\u001b[0m\u001b[0;34m,\u001b[0m \u001b[0mdegrees\u001b[0m\u001b[0;34m=\u001b[0m\u001b[0;32mFalse\u001b[0m\u001b[0;34m)\u001b[0m\u001b[0;34m.\u001b[0m\u001b[0mapply\u001b[0m\u001b[0;34m(\u001b[0m\u001b[0mnormal_orientation_rotation\u001b[0m\u001b[0;34m)\u001b[0m\u001b[0;34m\u001b[0m\u001b[0;34m\u001b[0m\u001b[0m\n\u001b[0m",
      "\u001b[0;32m~/research/KinovaGrasping/venv/lib/python3.6/site-packages/scipy/spatial/transform/rotation.py\u001b[0m in \u001b[0;36mapply\u001b[0;34m(self, vectors, inverse)\u001b[0m\n\u001b[1;32m   1313\u001b[0m         \u001b[0;32mif\u001b[0m \u001b[0mvectors\u001b[0m\u001b[0;34m.\u001b[0m\u001b[0mndim\u001b[0m \u001b[0;34m>\u001b[0m \u001b[0;36m2\u001b[0m \u001b[0;32mor\u001b[0m \u001b[0mvectors\u001b[0m\u001b[0;34m.\u001b[0m\u001b[0mshape\u001b[0m\u001b[0;34m[\u001b[0m\u001b[0;34m-\u001b[0m\u001b[0;36m1\u001b[0m\u001b[0;34m]\u001b[0m \u001b[0;34m!=\u001b[0m \u001b[0;36m3\u001b[0m\u001b[0;34m:\u001b[0m\u001b[0;34m\u001b[0m\u001b[0;34m\u001b[0m\u001b[0m\n\u001b[1;32m   1314\u001b[0m             raise ValueError(\"Expected input of shape (3,) or (P, 3), \"\n\u001b[0;32m-> 1315\u001b[0;31m                              \"got {}.\".format(vectors.shape))\n\u001b[0m\u001b[1;32m   1316\u001b[0m \u001b[0;34m\u001b[0m\u001b[0m\n\u001b[1;32m   1317\u001b[0m         \u001b[0msingle_vector\u001b[0m \u001b[0;34m=\u001b[0m \u001b[0;32mFalse\u001b[0m\u001b[0;34m\u001b[0m\u001b[0;34m\u001b[0m\u001b[0m\n",
      "\u001b[0;31mValueError\u001b[0m: Expected input of shape (3,) or (P, 3), got (1, 1, 1, 1, 1, 1, 1, 1, 1, 1, 1, 1, 1, 1, 1, 1, 1, 1, 1, 1, 1, 1, 1, 1, 1, 1, 1, 1, 1, 1, 1, 1)."
     ]
    }
   ],
   "source": [
    "R.from_euler(seq='XYZ', angles=[0, 0, 0], degrees=False).apply(normal_orientation_rotation)"
   ]
  },
  {
   "cell_type": "code",
   "execution_count": null,
   "id": "791ef142",
   "metadata": {},
   "outputs": [],
   "source": []
  },
  {
   "cell_type": "code",
   "execution_count": 11,
   "id": "73146961",
   "metadata": {},
   "outputs": [
    {
     "data": {
      "text/plain": [
       "[0.17999994292773025, 0.06540009340826342, -9.125899560187316e-05]"
      ]
     },
     "execution_count": 11,
     "metadata": {},
     "output_type": "execute_result"
    }
   ],
   "source": [
    "list(normal_orientation_rotation.apply(position_vector_at_ground))"
   ]
  },
  {
   "cell_type": "code",
   "execution_count": 5,
   "id": "a4c953fa",
   "metadata": {},
   "outputs": [
    {
     "name": "stdout",
     "output_type": "stream",
     "text": [
      "The autoreload extension is already loaded. To reload it, use:\n",
      "  %reload_ext autoreload\n"
     ]
    }
   ],
   "source": [
    "# Disable jedi autocompleter\n",
    "%config Completer.use_jedi = False\n",
    "\n",
    "%load_ext autoreload\n",
    "%autoreload 2\n",
    "\n",
    "import numpy as np\n",
    "import torch\n",
    "import gym\n",
    "import os\n",
    "\n",
    "from scipy.spatial.transform import Rotation as R\n",
    "# os.path.dirname(os.path.realpath(__file__))\n",
    "\n",
    "\n",
    "# env = gym.make('gym_kinova_gripper:kinovagripper-v0')"
   ]
  },
  {
   "cell_type": "code",
   "execution_count": null,
   "id": "562da643",
   "metadata": {},
   "outputs": [],
   "source": []
  },
  {
   "cell_type": "code",
   "execution_count": 59,
   "id": "6a1514cb",
   "metadata": {},
   "outputs": [
    {
     "name": "stdout",
     "output_type": "stream",
     "text": [
      "euler: -1.5700000000000003 0.0 -1.57\n",
      "pos: 0.0 0.18 0.0654\n"
     ]
    }
   ],
   "source": [
    "kwarg_dict = {\n",
    "    'rotvec_noise': [0, 0, 0],\n",
    "    'local_rotation_pos_shift': [0, 0, 0],\n",
    "    'post_rotation_pos_shift': [0,0.18,0.0654],\n",
    "#     'post_rotation_pos_shift': [0,0,0],\n",
    "    'grasp_translation': np.array([0, 0, 0]),\n",
    "    'grasp_orientation': np.array([-1.57, 0, -1.57])\n",
    "}\n",
    "noisy_mujoco_euler_arr, noisy_mujoco_pos_arr = rotate_around_sphere_mucrappo(**kwarg_dict)\n",
    "print(stringify_mucrappo(noisy_mujoco_euler_arr, noisy_mujoco_pos_arr))"
   ]
  },
  {
   "cell_type": "code",
   "execution_count": 2,
   "id": "77d0b3a5",
   "metadata": {},
   "outputs": [],
   "source": [
    "def real_like_hov_noise(rotvec_noise, post_rotation_pos_shift=np.array([0,0,0]),\n",
    "                                  default_orientation=np.array([0,0,0]),\n",
    "                                  grasp_translation=np.array([0,0.18,0.0654]),\n",
    "                                  grasp_orientation=np.array([-1.57, 0, -1.57])):\n",
    "    \"\"\"\n",
    "    rotates the wrist position and orientation just like the real world input. Give roll pitch and yaw!\n",
    "    \n",
    "    rotvec_noise: rotation noise to be apply extrinsically, and to rotate the coordinates accordingly\n",
    "    post_rotation_pos_shift: shifting the hand in global coordinates, after the inner shift...\n",
    "    default_orientation: the default orientation. should stay at 0s\n",
    "    grasp_translation: mujoco's euler value for whatever grasp position you're using\n",
    "    grasp_orientation: mujoco's pos value for whatever grasp position you're using\n",
    "    \"\"\"\n",
    "    # get rotation objects from starting grasp orientation, and the default orientation (should be 0 0 0)\n",
    "    grasp_orientation_rotation = R.from_euler(seq='XYZ', angles=grasp_orientation, degrees=False)  # caps because instrinsic rotation\n",
    "    default_orientation_rotation = R.from_euler(seq='XYZ', angles=default_orientation, degrees=False)\n",
    "    \n",
    "    # apply the orientation onto each other\n",
    "    rotation_orientation = np.matmul(default_orientation_rotation.as_matrix(), grasp_orientation_rotation.as_matrix())\n",
    "    \n",
    "    # apply rotation noise\n",
    "    desired_noise_rotation = R.from_rotvec(rotvec_noise)\n",
    "    noisy_ori = np.matmul(desired_noise_rotation.as_matrix(), rotation_orientation)\n",
    "    noisy_mujoco_euler = R.from_matrix(noisy_ori).as_euler(seq='XYZ')\n",
    "    \n",
    "    # get new postition\n",
    "    noisy_mujoco_pos = grasp_translation + post_rotation_pos_shift\n",
    "    \n",
    "    return noisy_mujoco_euler, noisy_mujoco_pos\n",
    "    "
   ]
  },
  {
   "cell_type": "code",
   "execution_count": 14,
   "id": "afd1c821",
   "metadata": {},
   "outputs": [
    {
     "name": "stdout",
     "output_type": "stream",
     "text": [
      "euler: -0.9961482218033897 0.49716991355617246 -1.7199551997157296\n",
      "pos: 0.0 0.18 0.0654\n"
     ]
    }
   ],
   "source": [
    "\n",
    "# example usage of rotating using settings similar to how real-life HOV is done.\n",
    "kwarg_dict = {\n",
    "    'rotvec_noise': [np.deg2rad(30), 0, -np.deg2rad(30)],  # extrinsic rotation here\n",
    "    'post_rotation_pos_shift': [0,0,0],  # positional noise here\n",
    "    'grasp_translation': np.array([0,0.18,0.0654]),  # the grasp position here (built to work with our previous positioning system)\n",
    "    'grasp_orientation': np.array([-1.57, 0, -1.57])  # the grasp orientation here (built to work with our previous orientation system)\n",
    "}\n",
    "noisy_mujoco_euler_arr, noisy_mujoco_pos_arr = real_like_hov_noise(**kwarg_dict)\n",
    "print(stringify_mucrappo(noisy_mujoco_euler_arr, noisy_mujoco_pos_arr))"
   ]
  },
  {
   "cell_type": "code",
   "execution_count": 15,
   "id": "d29a55eb",
   "metadata": {},
   "outputs": [
    {
     "name": "stdout",
     "output_type": "stream",
     "text": [
      "euler: -1.5700000000000003 0.0 -1.57\n",
      "pos: 0.0 0.18 0.0654\n"
     ]
    }
   ],
   "source": [
    "# example usage of rotating around sphere\n",
    "\n",
    "kwarg_dict = {\n",
    "    'rotvec_noise': [0, 0, 0],  # extrinsic rotation of the wrist here\n",
    "    'local_rotation_pos_shift': [0, 0, 0],  # positional noise wrt wrist's coordinate system here\n",
    "    'post_rotation_pos_shift': [0,0,0],  # positional noise wrt global coordinate system here\n",
    "    'grasp_translation': np.array([0,0.18,0.0654]),  # the grasp position here (built to work with our previous positioning system)\n",
    "    'grasp_orientation': np.array([-1.57, 0, -1.57])  # the grasp orientation here (built to work with our previous orientation system)\n",
    "}\n",
    "noisy_mujoco_euler_arr, noisy_mujoco_pos_arr = rotate_around_sphere_mucrappo(**kwarg_dict)\n",
    "print(stringify_mucrappo(noisy_mujoco_euler_arr, noisy_mujoco_pos_arr))"
   ]
  },
  {
   "cell_type": "code",
   "execution_count": 19,
   "id": "9e5ae7d4",
   "metadata": {},
   "outputs": [],
   "source": [
    "\n",
    "cv2.imwrite('file name with extension(like .jpg)', numpy_array)\n"
   ]
  },
  {
   "cell_type": "code",
   "execution_count": null,
   "id": "80a594bf",
   "metadata": {},
   "outputs": [],
   "source": []
  }
 ],
 "metadata": {
  "kernelspec": {
   "display_name": "Python 3",
   "language": "python",
   "name": "python3"
  },
  "language_info": {
   "codemirror_mode": {
    "name": "ipython",
    "version": 3
   },
   "file_extension": ".py",
   "mimetype": "text/x-python",
   "name": "python",
   "nbconvert_exporter": "python",
   "pygments_lexer": "ipython3",
   "version": "3.6.9"
  }
 },
 "nbformat": 4,
 "nbformat_minor": 5
}
